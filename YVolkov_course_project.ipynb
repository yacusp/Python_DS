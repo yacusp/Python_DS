{
 "cells": [
  {
   "cell_type": "markdown",
   "metadata": {
    "id": "bRwXJ3E-0GBP"
   },
   "source": [
    "# Предобработка данных "
   ]
  },
  {
   "cell_type": "markdown",
   "metadata": {
    "id": "BE_7qdeE0T6F"
   },
   "source": [
    "Подключение библиотек"
   ]
  },
  {
   "cell_type": "code",
   "execution_count": 1,
   "metadata": {
    "executionInfo": {
     "elapsed": 243,
     "status": "ok",
     "timestamp": 1671111296654,
     "user": {
      "displayName": "Yuriy Volkov",
      "userId": "03511939659137495578"
     },
     "user_tz": -180
    },
    "id": "m_2x1OAJm14f"
   },
   "outputs": [],
   "source": [
    "# подключение библиотек\n",
    "import numpy as np\n",
    "import pandas as pd\n",
    "\n",
    "from datetime import datetime\n",
    "from scipy.stats import mode\n",
    "\n",
    "from sklearn.model_selection import train_test_split\n",
    "from sklearn.preprocessing import StandardScaler\n",
    "\n",
    "from sklearn.linear_model import LinearRegression\n",
    "from sklearn.linear_model import Lasso, Ridge\n",
    "from sklearn.ensemble import RandomForestRegressor as RFR\n",
    "\n",
    "from sklearn.metrics import r2_score\n",
    "from sklearn.metrics import mean_squared_error\n",
    "\n",
    "import seaborn as sns\n",
    "from matplotlib import pyplot as plt\n",
    "\n",
    "import warnings\n",
    "\n",
    "warnings.filterwarnings('ignore')\n",
    "#plt.rcParams['figure.figsize'] = 8, 8\n",
    "%matplotlib inline\n"
   ]
  },
  {
   "cell_type": "markdown",
   "metadata": {
    "id": "trimJZMM4NPS"
   },
   "source": [
    "Пути к директориям и файлам"
   ]
  },
  {
   "cell_type": "code",
   "execution_count": 2,
   "metadata": {
    "executionInfo": {
     "elapsed": 6,
     "status": "ok",
     "timestamp": 1671109513287,
     "user": {
      "displayName": "Yuriy Volkov",
      "userId": "03511939659137495578"
     },
     "user_tz": -180
    },
    "id": "UKF0YrOy4W-o"
   },
   "outputs": [],
   "source": [
    "TEST_DATASET_PATH = './test.csv'\n",
    "TRAIN_DATASET_PATH = './train.csv'\n",
    "RESULT_FILE_PATH = './YVolkov_predictions.csv'"
   ]
  },
  {
   "cell_type": "markdown",
   "metadata": {
    "id": "vbV780Db4uVg"
   },
   "source": [
    "Описания полей датасета по недвижимости\n",
    "\n",
    "\n",
    "\n",
    "*   **Id** - идентификационный номер квартиры\n",
    "*   **DistrictId** - идентификационный номер района\n",
    "*   **Rooms** - количество комнат\n",
    "*   **Square** - площадь\n",
    "*   **LifeSquare** - жилая площадь\n",
    "*   **KitchenSquare** - площадь кухни\n",
    "*   **Floor** - этаж\n",
    "*   **HouseFloor** - количество этажей в доме\n",
    "*   **HouseYear** - год постройки дома\n",
    "*   **Ecology_1, Ecology_2, Ecology_3** - экологические показатели местности\n",
    "*   **Social_1, Social_2, Social_3** - социальные показатели местности\n",
    "*   **Healthcare_1, Helthcare_2** - показатели местности, связанные с охраной здоровья\n",
    "*   **Shops_1, Shops_2** - показатели, связанные с наличием магазинов, торговых центров\n",
    "*   **Price** - цена квартиры"
   ]
  },
  {
   "cell_type": "code",
   "execution_count": 3,
   "metadata": {
    "colab": {
     "base_uri": "https://localhost:8080/",
     "height": 270
    },
    "executionInfo": {
     "elapsed": 7,
     "status": "ok",
     "timestamp": 1671109513288,
     "user": {
      "displayName": "Yuriy Volkov",
      "userId": "03511939659137495578"
     },
     "user_tz": -180
    },
    "id": "2jS_UsHe6fzH",
    "outputId": "f0f65b29-b29d-4a7d-ca0e-6d9ee1d1e985"
   },
   "outputs": [
    {
     "data": {
      "text/html": [
       "<div>\n",
       "<style scoped>\n",
       "    .dataframe tbody tr th:only-of-type {\n",
       "        vertical-align: middle;\n",
       "    }\n",
       "\n",
       "    .dataframe tbody tr th {\n",
       "        vertical-align: top;\n",
       "    }\n",
       "\n",
       "    .dataframe thead th {\n",
       "        text-align: right;\n",
       "    }\n",
       "</style>\n",
       "<table border=\"1\" class=\"dataframe\">\n",
       "  <thead>\n",
       "    <tr style=\"text-align: right;\">\n",
       "      <th></th>\n",
       "      <th>Id</th>\n",
       "      <th>DistrictId</th>\n",
       "      <th>Rooms</th>\n",
       "      <th>Square</th>\n",
       "      <th>LifeSquare</th>\n",
       "      <th>KitchenSquare</th>\n",
       "      <th>Floor</th>\n",
       "      <th>HouseFloor</th>\n",
       "      <th>HouseYear</th>\n",
       "      <th>Ecology_1</th>\n",
       "      <th>Ecology_2</th>\n",
       "      <th>Ecology_3</th>\n",
       "      <th>Social_1</th>\n",
       "      <th>Social_2</th>\n",
       "      <th>Social_3</th>\n",
       "      <th>Healthcare_1</th>\n",
       "      <th>Helthcare_2</th>\n",
       "      <th>Shops_1</th>\n",
       "      <th>Shops_2</th>\n",
       "      <th>Price</th>\n",
       "    </tr>\n",
       "  </thead>\n",
       "  <tbody>\n",
       "    <tr>\n",
       "      <th>0</th>\n",
       "      <td>14038</td>\n",
       "      <td>35</td>\n",
       "      <td>2.0</td>\n",
       "      <td>47.981561</td>\n",
       "      <td>29.442751</td>\n",
       "      <td>6.0</td>\n",
       "      <td>7</td>\n",
       "      <td>9.0</td>\n",
       "      <td>1969</td>\n",
       "      <td>0.089040</td>\n",
       "      <td>B</td>\n",
       "      <td>B</td>\n",
       "      <td>33</td>\n",
       "      <td>7976</td>\n",
       "      <td>5</td>\n",
       "      <td>NaN</td>\n",
       "      <td>0</td>\n",
       "      <td>11</td>\n",
       "      <td>B</td>\n",
       "      <td>184966.930730</td>\n",
       "    </tr>\n",
       "    <tr>\n",
       "      <th>1</th>\n",
       "      <td>15053</td>\n",
       "      <td>41</td>\n",
       "      <td>3.0</td>\n",
       "      <td>65.683640</td>\n",
       "      <td>40.049543</td>\n",
       "      <td>8.0</td>\n",
       "      <td>7</td>\n",
       "      <td>9.0</td>\n",
       "      <td>1978</td>\n",
       "      <td>0.000070</td>\n",
       "      <td>B</td>\n",
       "      <td>B</td>\n",
       "      <td>46</td>\n",
       "      <td>10309</td>\n",
       "      <td>1</td>\n",
       "      <td>240.0</td>\n",
       "      <td>1</td>\n",
       "      <td>16</td>\n",
       "      <td>B</td>\n",
       "      <td>300009.450063</td>\n",
       "    </tr>\n",
       "    <tr>\n",
       "      <th>2</th>\n",
       "      <td>4765</td>\n",
       "      <td>53</td>\n",
       "      <td>2.0</td>\n",
       "      <td>44.947953</td>\n",
       "      <td>29.197612</td>\n",
       "      <td>0.0</td>\n",
       "      <td>8</td>\n",
       "      <td>12.0</td>\n",
       "      <td>1968</td>\n",
       "      <td>0.049637</td>\n",
       "      <td>B</td>\n",
       "      <td>B</td>\n",
       "      <td>34</td>\n",
       "      <td>7759</td>\n",
       "      <td>0</td>\n",
       "      <td>229.0</td>\n",
       "      <td>1</td>\n",
       "      <td>3</td>\n",
       "      <td>B</td>\n",
       "      <td>220925.908524</td>\n",
       "    </tr>\n",
       "    <tr>\n",
       "      <th>3</th>\n",
       "      <td>5809</td>\n",
       "      <td>58</td>\n",
       "      <td>2.0</td>\n",
       "      <td>53.352981</td>\n",
       "      <td>52.731512</td>\n",
       "      <td>9.0</td>\n",
       "      <td>8</td>\n",
       "      <td>17.0</td>\n",
       "      <td>1977</td>\n",
       "      <td>0.437885</td>\n",
       "      <td>B</td>\n",
       "      <td>B</td>\n",
       "      <td>23</td>\n",
       "      <td>5735</td>\n",
       "      <td>3</td>\n",
       "      <td>1084.0</td>\n",
       "      <td>0</td>\n",
       "      <td>5</td>\n",
       "      <td>B</td>\n",
       "      <td>175616.227217</td>\n",
       "    </tr>\n",
       "    <tr>\n",
       "      <th>4</th>\n",
       "      <td>10783</td>\n",
       "      <td>99</td>\n",
       "      <td>1.0</td>\n",
       "      <td>39.649192</td>\n",
       "      <td>23.776169</td>\n",
       "      <td>7.0</td>\n",
       "      <td>11</td>\n",
       "      <td>12.0</td>\n",
       "      <td>1976</td>\n",
       "      <td>0.012339</td>\n",
       "      <td>B</td>\n",
       "      <td>B</td>\n",
       "      <td>35</td>\n",
       "      <td>5776</td>\n",
       "      <td>1</td>\n",
       "      <td>2078.0</td>\n",
       "      <td>2</td>\n",
       "      <td>4</td>\n",
       "      <td>B</td>\n",
       "      <td>150226.531644</td>\n",
       "    </tr>\n",
       "  </tbody>\n",
       "</table>\n",
       "</div>"
      ],
      "text/plain": [
       "      Id  DistrictId  Rooms     Square  LifeSquare  KitchenSquare  Floor  \\\n",
       "0  14038          35    2.0  47.981561   29.442751            6.0      7   \n",
       "1  15053          41    3.0  65.683640   40.049543            8.0      7   \n",
       "2   4765          53    2.0  44.947953   29.197612            0.0      8   \n",
       "3   5809          58    2.0  53.352981   52.731512            9.0      8   \n",
       "4  10783          99    1.0  39.649192   23.776169            7.0     11   \n",
       "\n",
       "   HouseFloor  HouseYear  Ecology_1 Ecology_2 Ecology_3  Social_1  Social_2  \\\n",
       "0         9.0       1969   0.089040         B         B        33      7976   \n",
       "1         9.0       1978   0.000070         B         B        46     10309   \n",
       "2        12.0       1968   0.049637         B         B        34      7759   \n",
       "3        17.0       1977   0.437885         B         B        23      5735   \n",
       "4        12.0       1976   0.012339         B         B        35      5776   \n",
       "\n",
       "   Social_3  Healthcare_1  Helthcare_2  Shops_1 Shops_2          Price  \n",
       "0         5           NaN            0       11       B  184966.930730  \n",
       "1         1         240.0            1       16       B  300009.450063  \n",
       "2         0         229.0            1        3       B  220925.908524  \n",
       "3         3        1084.0            0        5       B  175616.227217  \n",
       "4         1        2078.0            2        4       B  150226.531644  "
      ]
     },
     "execution_count": 3,
     "metadata": {},
     "output_type": "execute_result"
    }
   ],
   "source": [
    "# загрузка файла для анализа в датафрейм\n",
    "df = pd.read_csv(TRAIN_DATASET_PATH, sep = ',')\n",
    "\n",
    "# отобраение нескольких первых строк\n",
    "df.head(5)"
   ]
  },
  {
   "cell_type": "code",
   "execution_count": 4,
   "metadata": {
    "colab": {
     "base_uri": "https://localhost:8080/",
     "height": 833
    },
    "executionInfo": {
     "elapsed": 251,
     "status": "ok",
     "timestamp": 1671110183637,
     "user": {
      "displayName": "Yuriy Volkov",
      "userId": "03511939659137495578"
     },
     "user_tz": -180
    },
    "id": "-awfYnUl7ydN",
    "outputId": "bdf7e9af-a815-469d-a17b-dd7ce89457e2"
   },
   "outputs": [
    {
     "data": {
      "text/html": [
       "<div>\n",
       "<style scoped>\n",
       "    .dataframe tbody tr th:only-of-type {\n",
       "        vertical-align: middle;\n",
       "    }\n",
       "\n",
       "    .dataframe tbody tr th {\n",
       "        vertical-align: top;\n",
       "    }\n",
       "\n",
       "    .dataframe thead th {\n",
       "        text-align: right;\n",
       "    }\n",
       "</style>\n",
       "<table border=\"1\" class=\"dataframe\">\n",
       "  <thead>\n",
       "    <tr style=\"text-align: right;\">\n",
       "      <th></th>\n",
       "      <th>count</th>\n",
       "      <th>unique</th>\n",
       "      <th>top</th>\n",
       "      <th>freq</th>\n",
       "      <th>mean</th>\n",
       "      <th>std</th>\n",
       "      <th>min</th>\n",
       "      <th>25%</th>\n",
       "      <th>50%</th>\n",
       "      <th>75%</th>\n",
       "      <th>max</th>\n",
       "    </tr>\n",
       "  </thead>\n",
       "  <tbody>\n",
       "    <tr>\n",
       "      <th>Id</th>\n",
       "      <td>10000.0</td>\n",
       "      <td>NaN</td>\n",
       "      <td>NaN</td>\n",
       "      <td>NaN</td>\n",
       "      <td>8383.4077</td>\n",
       "      <td>4859.01902</td>\n",
       "      <td>0.0</td>\n",
       "      <td>4169.5</td>\n",
       "      <td>8394.5</td>\n",
       "      <td>12592.5</td>\n",
       "      <td>16798.0</td>\n",
       "    </tr>\n",
       "    <tr>\n",
       "      <th>DistrictId</th>\n",
       "      <td>10000.0</td>\n",
       "      <td>NaN</td>\n",
       "      <td>NaN</td>\n",
       "      <td>NaN</td>\n",
       "      <td>50.4008</td>\n",
       "      <td>43.587592</td>\n",
       "      <td>0.0</td>\n",
       "      <td>20.0</td>\n",
       "      <td>36.0</td>\n",
       "      <td>75.0</td>\n",
       "      <td>209.0</td>\n",
       "    </tr>\n",
       "    <tr>\n",
       "      <th>Rooms</th>\n",
       "      <td>10000.0</td>\n",
       "      <td>NaN</td>\n",
       "      <td>NaN</td>\n",
       "      <td>NaN</td>\n",
       "      <td>1.8905</td>\n",
       "      <td>0.839512</td>\n",
       "      <td>0.0</td>\n",
       "      <td>1.0</td>\n",
       "      <td>2.0</td>\n",
       "      <td>2.0</td>\n",
       "      <td>19.0</td>\n",
       "    </tr>\n",
       "    <tr>\n",
       "      <th>Square</th>\n",
       "      <td>10000.0</td>\n",
       "      <td>NaN</td>\n",
       "      <td>NaN</td>\n",
       "      <td>NaN</td>\n",
       "      <td>56.315775</td>\n",
       "      <td>21.058732</td>\n",
       "      <td>1.136859</td>\n",
       "      <td>41.774881</td>\n",
       "      <td>52.51331</td>\n",
       "      <td>65.900625</td>\n",
       "      <td>641.065193</td>\n",
       "    </tr>\n",
       "    <tr>\n",
       "      <th>LifeSquare</th>\n",
       "      <td>7887.0</td>\n",
       "      <td>NaN</td>\n",
       "      <td>NaN</td>\n",
       "      <td>NaN</td>\n",
       "      <td>37.199645</td>\n",
       "      <td>86.241209</td>\n",
       "      <td>0.370619</td>\n",
       "      <td>22.769832</td>\n",
       "      <td>32.78126</td>\n",
       "      <td>45.128803</td>\n",
       "      <td>7480.592129</td>\n",
       "    </tr>\n",
       "    <tr>\n",
       "      <th>KitchenSquare</th>\n",
       "      <td>10000.0</td>\n",
       "      <td>NaN</td>\n",
       "      <td>NaN</td>\n",
       "      <td>NaN</td>\n",
       "      <td>6.2733</td>\n",
       "      <td>28.560917</td>\n",
       "      <td>0.0</td>\n",
       "      <td>1.0</td>\n",
       "      <td>6.0</td>\n",
       "      <td>9.0</td>\n",
       "      <td>2014.0</td>\n",
       "    </tr>\n",
       "    <tr>\n",
       "      <th>Floor</th>\n",
       "      <td>10000.0</td>\n",
       "      <td>NaN</td>\n",
       "      <td>NaN</td>\n",
       "      <td>NaN</td>\n",
       "      <td>8.5267</td>\n",
       "      <td>5.241148</td>\n",
       "      <td>1.0</td>\n",
       "      <td>4.0</td>\n",
       "      <td>7.0</td>\n",
       "      <td>12.0</td>\n",
       "      <td>42.0</td>\n",
       "    </tr>\n",
       "    <tr>\n",
       "      <th>HouseFloor</th>\n",
       "      <td>10000.0</td>\n",
       "      <td>NaN</td>\n",
       "      <td>NaN</td>\n",
       "      <td>NaN</td>\n",
       "      <td>12.6094</td>\n",
       "      <td>6.775974</td>\n",
       "      <td>0.0</td>\n",
       "      <td>9.0</td>\n",
       "      <td>13.0</td>\n",
       "      <td>17.0</td>\n",
       "      <td>117.0</td>\n",
       "    </tr>\n",
       "    <tr>\n",
       "      <th>HouseYear</th>\n",
       "      <td>10000.0</td>\n",
       "      <td>NaN</td>\n",
       "      <td>NaN</td>\n",
       "      <td>NaN</td>\n",
       "      <td>3990.1663</td>\n",
       "      <td>200500.261427</td>\n",
       "      <td>1910.0</td>\n",
       "      <td>1974.0</td>\n",
       "      <td>1977.0</td>\n",
       "      <td>2001.0</td>\n",
       "      <td>20052011.0</td>\n",
       "    </tr>\n",
       "    <tr>\n",
       "      <th>Ecology_1</th>\n",
       "      <td>10000.0</td>\n",
       "      <td>NaN</td>\n",
       "      <td>NaN</td>\n",
       "      <td>NaN</td>\n",
       "      <td>0.118858</td>\n",
       "      <td>0.119025</td>\n",
       "      <td>0.0</td>\n",
       "      <td>0.017647</td>\n",
       "      <td>0.075424</td>\n",
       "      <td>0.195781</td>\n",
       "      <td>0.521867</td>\n",
       "    </tr>\n",
       "    <tr>\n",
       "      <th>Ecology_2</th>\n",
       "      <td>10000</td>\n",
       "      <td>2</td>\n",
       "      <td>B</td>\n",
       "      <td>9903</td>\n",
       "      <td>NaN</td>\n",
       "      <td>NaN</td>\n",
       "      <td>NaN</td>\n",
       "      <td>NaN</td>\n",
       "      <td>NaN</td>\n",
       "      <td>NaN</td>\n",
       "      <td>NaN</td>\n",
       "    </tr>\n",
       "    <tr>\n",
       "      <th>Ecology_3</th>\n",
       "      <td>10000</td>\n",
       "      <td>2</td>\n",
       "      <td>B</td>\n",
       "      <td>9725</td>\n",
       "      <td>NaN</td>\n",
       "      <td>NaN</td>\n",
       "      <td>NaN</td>\n",
       "      <td>NaN</td>\n",
       "      <td>NaN</td>\n",
       "      <td>NaN</td>\n",
       "      <td>NaN</td>\n",
       "    </tr>\n",
       "    <tr>\n",
       "      <th>Social_1</th>\n",
       "      <td>10000.0</td>\n",
       "      <td>NaN</td>\n",
       "      <td>NaN</td>\n",
       "      <td>NaN</td>\n",
       "      <td>24.687</td>\n",
       "      <td>17.532614</td>\n",
       "      <td>0.0</td>\n",
       "      <td>6.0</td>\n",
       "      <td>25.0</td>\n",
       "      <td>36.0</td>\n",
       "      <td>74.0</td>\n",
       "    </tr>\n",
       "    <tr>\n",
       "      <th>Social_2</th>\n",
       "      <td>10000.0</td>\n",
       "      <td>NaN</td>\n",
       "      <td>NaN</td>\n",
       "      <td>NaN</td>\n",
       "      <td>5352.1574</td>\n",
       "      <td>4006.799803</td>\n",
       "      <td>168.0</td>\n",
       "      <td>1564.0</td>\n",
       "      <td>5285.0</td>\n",
       "      <td>7227.0</td>\n",
       "      <td>19083.0</td>\n",
       "    </tr>\n",
       "    <tr>\n",
       "      <th>Social_3</th>\n",
       "      <td>10000.0</td>\n",
       "      <td>NaN</td>\n",
       "      <td>NaN</td>\n",
       "      <td>NaN</td>\n",
       "      <td>8.0392</td>\n",
       "      <td>23.831875</td>\n",
       "      <td>0.0</td>\n",
       "      <td>0.0</td>\n",
       "      <td>2.0</td>\n",
       "      <td>5.0</td>\n",
       "      <td>141.0</td>\n",
       "    </tr>\n",
       "    <tr>\n",
       "      <th>Healthcare_1</th>\n",
       "      <td>5202.0</td>\n",
       "      <td>NaN</td>\n",
       "      <td>NaN</td>\n",
       "      <td>NaN</td>\n",
       "      <td>1142.90446</td>\n",
       "      <td>1021.517264</td>\n",
       "      <td>0.0</td>\n",
       "      <td>350.0</td>\n",
       "      <td>900.0</td>\n",
       "      <td>1548.0</td>\n",
       "      <td>4849.0</td>\n",
       "    </tr>\n",
       "    <tr>\n",
       "      <th>Helthcare_2</th>\n",
       "      <td>10000.0</td>\n",
       "      <td>NaN</td>\n",
       "      <td>NaN</td>\n",
       "      <td>NaN</td>\n",
       "      <td>1.3195</td>\n",
       "      <td>1.493601</td>\n",
       "      <td>0.0</td>\n",
       "      <td>0.0</td>\n",
       "      <td>1.0</td>\n",
       "      <td>2.0</td>\n",
       "      <td>6.0</td>\n",
       "    </tr>\n",
       "    <tr>\n",
       "      <th>Shops_1</th>\n",
       "      <td>10000.0</td>\n",
       "      <td>NaN</td>\n",
       "      <td>NaN</td>\n",
       "      <td>NaN</td>\n",
       "      <td>4.2313</td>\n",
       "      <td>4.806341</td>\n",
       "      <td>0.0</td>\n",
       "      <td>1.0</td>\n",
       "      <td>3.0</td>\n",
       "      <td>6.0</td>\n",
       "      <td>23.0</td>\n",
       "    </tr>\n",
       "    <tr>\n",
       "      <th>Shops_2</th>\n",
       "      <td>10000</td>\n",
       "      <td>2</td>\n",
       "      <td>B</td>\n",
       "      <td>9175</td>\n",
       "      <td>NaN</td>\n",
       "      <td>NaN</td>\n",
       "      <td>NaN</td>\n",
       "      <td>NaN</td>\n",
       "      <td>NaN</td>\n",
       "      <td>NaN</td>\n",
       "      <td>NaN</td>\n",
       "    </tr>\n",
       "    <tr>\n",
       "      <th>Price</th>\n",
       "      <td>10000.0</td>\n",
       "      <td>NaN</td>\n",
       "      <td>NaN</td>\n",
       "      <td>NaN</td>\n",
       "      <td>214138.857399</td>\n",
       "      <td>92872.293865</td>\n",
       "      <td>59174.778028</td>\n",
       "      <td>153872.633942</td>\n",
       "      <td>192269.644879</td>\n",
       "      <td>249135.462171</td>\n",
       "      <td>633233.46657</td>\n",
       "    </tr>\n",
       "  </tbody>\n",
       "</table>\n",
       "</div>"
      ],
      "text/plain": [
       "                 count unique  top  freq           mean            std  \\\n",
       "Id             10000.0    NaN  NaN   NaN      8383.4077     4859.01902   \n",
       "DistrictId     10000.0    NaN  NaN   NaN        50.4008      43.587592   \n",
       "Rooms          10000.0    NaN  NaN   NaN         1.8905       0.839512   \n",
       "Square         10000.0    NaN  NaN   NaN      56.315775      21.058732   \n",
       "LifeSquare      7887.0    NaN  NaN   NaN      37.199645      86.241209   \n",
       "KitchenSquare  10000.0    NaN  NaN   NaN         6.2733      28.560917   \n",
       "Floor          10000.0    NaN  NaN   NaN         8.5267       5.241148   \n",
       "HouseFloor     10000.0    NaN  NaN   NaN        12.6094       6.775974   \n",
       "HouseYear      10000.0    NaN  NaN   NaN      3990.1663  200500.261427   \n",
       "Ecology_1      10000.0    NaN  NaN   NaN       0.118858       0.119025   \n",
       "Ecology_2        10000      2    B  9903            NaN            NaN   \n",
       "Ecology_3        10000      2    B  9725            NaN            NaN   \n",
       "Social_1       10000.0    NaN  NaN   NaN         24.687      17.532614   \n",
       "Social_2       10000.0    NaN  NaN   NaN      5352.1574    4006.799803   \n",
       "Social_3       10000.0    NaN  NaN   NaN         8.0392      23.831875   \n",
       "Healthcare_1    5202.0    NaN  NaN   NaN     1142.90446    1021.517264   \n",
       "Helthcare_2    10000.0    NaN  NaN   NaN         1.3195       1.493601   \n",
       "Shops_1        10000.0    NaN  NaN   NaN         4.2313       4.806341   \n",
       "Shops_2          10000      2    B  9175            NaN            NaN   \n",
       "Price          10000.0    NaN  NaN   NaN  214138.857399   92872.293865   \n",
       "\n",
       "                        min            25%            50%            75%  \\\n",
       "Id                      0.0         4169.5         8394.5        12592.5   \n",
       "DistrictId              0.0           20.0           36.0           75.0   \n",
       "Rooms                   0.0            1.0            2.0            2.0   \n",
       "Square             1.136859      41.774881       52.51331      65.900625   \n",
       "LifeSquare         0.370619      22.769832       32.78126      45.128803   \n",
       "KitchenSquare           0.0            1.0            6.0            9.0   \n",
       "Floor                   1.0            4.0            7.0           12.0   \n",
       "HouseFloor              0.0            9.0           13.0           17.0   \n",
       "HouseYear            1910.0         1974.0         1977.0         2001.0   \n",
       "Ecology_1               0.0       0.017647       0.075424       0.195781   \n",
       "Ecology_2               NaN            NaN            NaN            NaN   \n",
       "Ecology_3               NaN            NaN            NaN            NaN   \n",
       "Social_1                0.0            6.0           25.0           36.0   \n",
       "Social_2              168.0         1564.0         5285.0         7227.0   \n",
       "Social_3                0.0            0.0            2.0            5.0   \n",
       "Healthcare_1            0.0          350.0          900.0         1548.0   \n",
       "Helthcare_2             0.0            0.0            1.0            2.0   \n",
       "Shops_1                 0.0            1.0            3.0            6.0   \n",
       "Shops_2                 NaN            NaN            NaN            NaN   \n",
       "Price          59174.778028  153872.633942  192269.644879  249135.462171   \n",
       "\n",
       "                        max  \n",
       "Id                  16798.0  \n",
       "DistrictId            209.0  \n",
       "Rooms                  19.0  \n",
       "Square           641.065193  \n",
       "LifeSquare      7480.592129  \n",
       "KitchenSquare        2014.0  \n",
       "Floor                  42.0  \n",
       "HouseFloor            117.0  \n",
       "HouseYear        20052011.0  \n",
       "Ecology_1          0.521867  \n",
       "Ecology_2               NaN  \n",
       "Ecology_3               NaN  \n",
       "Social_1               74.0  \n",
       "Social_2            19083.0  \n",
       "Social_3              141.0  \n",
       "Healthcare_1         4849.0  \n",
       "Helthcare_2             6.0  \n",
       "Shops_1                23.0  \n",
       "Shops_2                 NaN  \n",
       "Price          633233.46657  "
      ]
     },
     "execution_count": 4,
     "metadata": {},
     "output_type": "execute_result"
    }
   ],
   "source": [
    "# отображение описания\n",
    "df.describe(include='all').transpose()"
   ]
  },
  {
   "cell_type": "code",
   "execution_count": 5,
   "metadata": {
    "colab": {
     "base_uri": "https://localhost:8080/"
    },
    "executionInfo": {
     "elapsed": 24,
     "status": "ok",
     "timestamp": 1671109513666,
     "user": {
      "displayName": "Yuriy Volkov",
      "userId": "03511939659137495578"
     },
     "user_tz": -180
    },
    "id": "7kxZO_UF93cr",
    "outputId": "f9818588-8e8f-4c46-a6c1-e8afa1c189f4"
   },
   "outputs": [
    {
     "name": "stdout",
     "output_type": "stream",
     "text": [
      "Всего строк: 10000\n",
      "Всего столбцов: 20\n"
     ]
    }
   ],
   "source": [
    "# отображение общего количества строк и столбцов\n",
    "print (f'Всего строк: {df.shape[0]}')\n",
    "print (f'Всего столбцов: {df.shape[1]}')"
   ]
  },
  {
   "cell_type": "markdown",
   "metadata": {
    "id": "q8tU7pLtLUd7"
   },
   "source": [
    "Оптимизация памяти, изменение типов даннах"
   ]
  },
  {
   "cell_type": "code",
   "execution_count": 6,
   "metadata": {
    "colab": {
     "base_uri": "https://localhost:8080/"
    },
    "executionInfo": {
     "elapsed": 20,
     "status": "ok",
     "timestamp": 1671109513667,
     "user": {
      "displayName": "Yuriy Volkov",
      "userId": "03511939659137495578"
     },
     "user_tz": -180
    },
    "id": "gdErQy9R-E9B",
    "outputId": "c79430c1-edf4-45f8-c3fd-52d591cf9529"
   },
   "outputs": [
    {
     "name": "stdout",
     "output_type": "stream",
     "text": [
      "<class 'pandas.core.frame.DataFrame'>\n",
      "RangeIndex: 10000 entries, 0 to 9999\n",
      "Data columns (total 20 columns):\n",
      " #   Column         Non-Null Count  Dtype  \n",
      "---  ------         --------------  -----  \n",
      " 0   Id             10000 non-null  int64  \n",
      " 1   DistrictId     10000 non-null  int64  \n",
      " 2   Rooms          10000 non-null  float64\n",
      " 3   Square         10000 non-null  float64\n",
      " 4   LifeSquare     7887 non-null   float64\n",
      " 5   KitchenSquare  10000 non-null  float64\n",
      " 6   Floor          10000 non-null  int64  \n",
      " 7   HouseFloor     10000 non-null  float64\n",
      " 8   HouseYear      10000 non-null  int64  \n",
      " 9   Ecology_1      10000 non-null  float64\n",
      " 10  Ecology_2      10000 non-null  object \n",
      " 11  Ecology_3      10000 non-null  object \n",
      " 12  Social_1       10000 non-null  int64  \n",
      " 13  Social_2       10000 non-null  int64  \n",
      " 14  Social_3       10000 non-null  int64  \n",
      " 15  Healthcare_1   5202 non-null   float64\n",
      " 16  Helthcare_2    10000 non-null  int64  \n",
      " 17  Shops_1        10000 non-null  int64  \n",
      " 18  Shops_2        10000 non-null  object \n",
      " 19  Price          10000 non-null  float64\n",
      "dtypes: float64(8), int64(9), object(3)\n",
      "memory usage: 1.5+ MB\n"
     ]
    }
   ],
   "source": [
    "df.info()"
   ]
  },
  {
   "cell_type": "markdown",
   "metadata": {
    "id": "pzCCpXdRHLrM"
   },
   "source": [
    "**Памятка**\n",
    "\n",
    "Изменение типов данных.\n",
    "\n",
    "Даннае с целочисленными значениями:\n",
    "- **Rooms** - int\n",
    "- **HouseFloor** - int\n",
    "\n",
    "Данные с категориальными значениями:\n",
    "- **Ecology_2** - category\n",
    "- **Ecology_3** - category\n",
    "- **Shops_2** - category\n",
    "\n",
    "Исключение параметра **id** из вывода отчета по числовым признакам. \n",
    "- **Id** - str"
   ]
  },
  {
   "cell_type": "code",
   "execution_count": 7,
   "metadata": {
    "executionInfo": {
     "elapsed": 19,
     "status": "ok",
     "timestamp": 1671109513668,
     "user": {
      "displayName": "Yuriy Volkov",
      "userId": "03511939659137495578"
     },
     "user_tz": -180
    },
    "id": "XRFMe8c_HWVy"
   },
   "outputs": [],
   "source": [
    "# изменение типов\n",
    "#df = df.dropna()\n",
    "\n",
    "df['Rooms'] = df['Rooms'].astype('int')\n",
    "df['HouseFloor'] = df['HouseFloor'].astype('int')\n",
    "df['Ecology_2'] = df['Ecology_2'].astype('category')\n",
    "df['Ecology_3'] = df['Ecology_3'].astype('category')\n",
    "df['Shops_2'] = df['Shops_2'].astype('category')\n",
    "df['Id'] = df['Id'].astype(str)"
   ]
  },
  {
   "cell_type": "markdown",
   "metadata": {
    "id": "wDlhAKSt9GeT"
   },
   "source": [
    "# Анализ данных"
   ]
  },
  {
   "cell_type": "code",
   "execution_count": 8,
   "metadata": {},
   "outputs": [
    {
     "data": {
      "text/plain": [
       "Index(['Id', 'DistrictId', 'Rooms', 'Square', 'LifeSquare', 'KitchenSquare',\n",
       "       'Floor', 'HouseFloor', 'HouseYear', 'Ecology_1', 'Ecology_2',\n",
       "       'Ecology_3', 'Social_1', 'Social_2', 'Social_3', 'Healthcare_1',\n",
       "       'Helthcare_2', 'Shops_1', 'Shops_2', 'Price'],\n",
       "      dtype='object')"
      ]
     },
     "execution_count": 8,
     "metadata": {},
     "output_type": "execute_result"
    }
   ],
   "source": [
    "df.columns"
   ]
  },
  {
   "cell_type": "code",
   "execution_count": 9,
   "metadata": {
    "colab": {
     "base_uri": "https://localhost:8080/"
    },
    "executionInfo": {
     "elapsed": 19,
     "status": "ok",
     "timestamp": 1671109513668,
     "user": {
      "displayName": "Yuriy Volkov",
      "userId": "03511939659137495578"
     },
     "user_tz": -180
    },
    "id": "LCFK0jvAUIPC",
    "outputId": "46ddbe8f-7745-4a85-c0d9-13352a9c9262"
   },
   "outputs": [
    {
     "name": "stdout",
     "output_type": "stream",
     "text": [
      "<class 'pandas.core.frame.DataFrame'>\n",
      "RangeIndex: 10000 entries, 0 to 9999\n",
      "Data columns (total 20 columns):\n",
      " #   Column         Non-Null Count  Dtype   \n",
      "---  ------         --------------  -----   \n",
      " 0   Id             10000 non-null  object  \n",
      " 1   DistrictId     10000 non-null  int64   \n",
      " 2   Rooms          10000 non-null  int32   \n",
      " 3   Square         10000 non-null  float64 \n",
      " 4   LifeSquare     7887 non-null   float64 \n",
      " 5   KitchenSquare  10000 non-null  float64 \n",
      " 6   Floor          10000 non-null  int64   \n",
      " 7   HouseFloor     10000 non-null  int32   \n",
      " 8   HouseYear      10000 non-null  int64   \n",
      " 9   Ecology_1      10000 non-null  float64 \n",
      " 10  Ecology_2      10000 non-null  category\n",
      " 11  Ecology_3      10000 non-null  category\n",
      " 12  Social_1       10000 non-null  int64   \n",
      " 13  Social_2       10000 non-null  int64   \n",
      " 14  Social_3       10000 non-null  int64   \n",
      " 15  Healthcare_1   5202 non-null   float64 \n",
      " 16  Helthcare_2    10000 non-null  int64   \n",
      " 17  Shops_1        10000 non-null  int64   \n",
      " 18  Shops_2        10000 non-null  category\n",
      " 19  Price          10000 non-null  float64 \n",
      "dtypes: category(3), float64(6), int32(2), int64(8), object(1)\n",
      "memory usage: 1.2+ MB\n"
     ]
    }
   ],
   "source": [
    "df.info()"
   ]
  },
  {
   "cell_type": "markdown",
   "metadata": {
    "id": "lWpSriH1R67W"
   },
   "source": [
    "Проверка пропусков в числовых значениях"
   ]
  },
  {
   "cell_type": "code",
   "execution_count": 10,
   "metadata": {
    "colab": {
     "base_uri": "https://localhost:8080/"
    },
    "executionInfo": {
     "elapsed": 645,
     "status": "ok",
     "timestamp": 1671109514303,
     "user": {
      "displayName": "Yuriy Volkov",
      "userId": "03511939659137495578"
     },
     "user_tz": -180
    },
    "id": "k6rYFcxUIJ8V",
    "outputId": "5bb4407f-e5f9-4aab-ac0a-30a6bace7cc6"
   },
   "outputs": [
    {
     "data": {
      "text/plain": [
       "Id                  0\n",
       "DistrictId          0\n",
       "Rooms               0\n",
       "Square              0\n",
       "LifeSquare       2113\n",
       "KitchenSquare       0\n",
       "Floor               0\n",
       "HouseFloor          0\n",
       "HouseYear           0\n",
       "Ecology_1           0\n",
       "Ecology_2           0\n",
       "Ecology_3           0\n",
       "Social_1            0\n",
       "Social_2            0\n",
       "Social_3            0\n",
       "Healthcare_1     4798\n",
       "Helthcare_2         0\n",
       "Shops_1             0\n",
       "Shops_2             0\n",
       "Price               0\n",
       "dtype: int64"
      ]
     },
     "execution_count": 10,
     "metadata": {},
     "output_type": "execute_result"
    }
   ],
   "source": [
    "df.isna().sum()"
   ]
  },
  {
   "cell_type": "code",
   "execution_count": 11,
   "metadata": {
    "colab": {
     "base_uri": "https://localhost:8080/"
    },
    "executionInfo": {
     "elapsed": 30,
     "status": "ok",
     "timestamp": 1671109514304,
     "user": {
      "displayName": "Yuriy Volkov",
      "userId": "03511939659137495578"
     },
     "user_tz": -180
    },
    "id": "MZMBK-QQ-mX6",
    "outputId": "4b22c979-84f4-414f-a843-395223e51366"
   },
   "outputs": [
    {
     "data": {
      "text/plain": [
       "Id               0.0000\n",
       "DistrictId       0.0000\n",
       "Rooms            0.0000\n",
       "Square           0.0000\n",
       "LifeSquare       0.2113\n",
       "KitchenSquare    0.0000\n",
       "Floor            0.0000\n",
       "HouseFloor       0.0000\n",
       "HouseYear        0.0000\n",
       "Ecology_1        0.0000\n",
       "Ecology_2        0.0000\n",
       "Ecology_3        0.0000\n",
       "Social_1         0.0000\n",
       "Social_2         0.0000\n",
       "Social_3         0.0000\n",
       "Healthcare_1     0.4798\n",
       "Helthcare_2      0.0000\n",
       "Shops_1          0.0000\n",
       "Shops_2          0.0000\n",
       "Price            0.0000\n",
       "dtype: float64"
      ]
     },
     "execution_count": 11,
     "metadata": {},
     "output_type": "execute_result"
    }
   ],
   "source": [
    "# проверка пропусков\n",
    "(len(df) - df.count())/len(df)"
   ]
  },
  {
   "cell_type": "markdown",
   "metadata": {
    "id": "syBkj4TC_-Ny"
   },
   "source": [
    "Проауски LifeSquare дополняем значением одбщей площади умноженной на коэфф. 0.6. \n",
    "Параметр Healthcare_1 - будет опущен, т.к. пропуски данных более 47%."
   ]
  },
  {
   "cell_type": "code",
   "execution_count": 12,
   "metadata": {
    "colab": {
     "base_uri": "https://localhost:8080/"
    },
    "executionInfo": {
     "elapsed": 26,
     "status": "ok",
     "timestamp": 1671109514304,
     "user": {
      "displayName": "Yuriy Volkov",
      "userId": "03511939659137495578"
     },
     "user_tz": -180
    },
    "id": "BN2pe6jTMNKb",
    "outputId": "d3a1815e-ed7e-4039-d121-a2e95c65791b"
   },
   "outputs": [
    {
     "data": {
      "text/plain": [
       "0"
      ]
     },
     "execution_count": 12,
     "metadata": {},
     "output_type": "execute_result"
    }
   ],
   "source": [
    "# заполняем пропуски LifeSquare значением медианы\n",
    "df.loc[df['LifeSquare'].isnull(), 'LifeSquare'] = df['Square']*0.6\n",
    "# проверяем \n",
    "df['LifeSquare'].isna().sum()"
   ]
  },
  {
   "cell_type": "markdown",
   "metadata": {
    "id": "ZA6JfuNmRzD3"
   },
   "source": [
    "Проверка неочевидных пропусков в категориальных значениях"
   ]
  },
  {
   "cell_type": "code",
   "execution_count": 13,
   "metadata": {
    "colab": {
     "base_uri": "https://localhost:8080/"
    },
    "executionInfo": {
     "elapsed": 16,
     "status": "ok",
     "timestamp": 1671109513669,
     "user": {
      "displayName": "Yuriy Volkov",
      "userId": "03511939659137495578"
     },
     "user_tz": -180
    },
    "id": "fGPn2xcvRIUw",
    "outputId": "03a21233-a11a-4c83-bba6-07527cef4b72"
   },
   "outputs": [
    {
     "data": {
      "text/plain": [
       "['B', 'A']\n",
       "Categories (2, object): ['A', 'B']"
      ]
     },
     "execution_count": 13,
     "metadata": {},
     "output_type": "execute_result"
    }
   ],
   "source": [
    "df['Ecology_2'].unique()"
   ]
  },
  {
   "cell_type": "code",
   "execution_count": 14,
   "metadata": {
    "colab": {
     "base_uri": "https://localhost:8080/"
    },
    "executionInfo": {
     "elapsed": 14,
     "status": "ok",
     "timestamp": 1671109513669,
     "user": {
      "displayName": "Yuriy Volkov",
      "userId": "03511939659137495578"
     },
     "user_tz": -180
    },
    "id": "18XEcG8FRMt_",
    "outputId": "b01baa5a-efb6-4108-d300-282b88ce3eef"
   },
   "outputs": [
    {
     "data": {
      "text/plain": [
       "['B', 'A']\n",
       "Categories (2, object): ['A', 'B']"
      ]
     },
     "execution_count": 14,
     "metadata": {},
     "output_type": "execute_result"
    }
   ],
   "source": [
    "df['Ecology_3'].unique()"
   ]
  },
  {
   "cell_type": "code",
   "execution_count": 15,
   "metadata": {
    "colab": {
     "base_uri": "https://localhost:8080/"
    },
    "executionInfo": {
     "elapsed": 13,
     "status": "ok",
     "timestamp": 1671109513670,
     "user": {
      "displayName": "Yuriy Volkov",
      "userId": "03511939659137495578"
     },
     "user_tz": -180
    },
    "id": "T4EmldCARO6H",
    "outputId": "19ff801d-d5d7-4f5e-f94f-c5865d20cc7e"
   },
   "outputs": [
    {
     "data": {
      "text/plain": [
       "['B', 'A']\n",
       "Categories (2, object): ['A', 'B']"
      ]
     },
     "execution_count": 15,
     "metadata": {},
     "output_type": "execute_result"
    }
   ],
   "source": [
    "df['Shops_2'].unique()"
   ]
  },
  {
   "cell_type": "code",
   "execution_count": 16,
   "metadata": {
    "colab": {
     "base_uri": "https://localhost:8080/",
     "height": 833
    },
    "executionInfo": {
     "elapsed": 257,
     "status": "ok",
     "timestamp": 1671109628345,
     "user": {
      "displayName": "Yuriy Volkov",
      "userId": "03511939659137495578"
     },
     "user_tz": -180
    },
    "id": "eDS2EOsR_3if",
    "outputId": "9083d5c0-b5b7-4aea-8897-b0333657862c"
   },
   "outputs": [
    {
     "data": {
      "text/html": [
       "<div>\n",
       "<style scoped>\n",
       "    .dataframe tbody tr th:only-of-type {\n",
       "        vertical-align: middle;\n",
       "    }\n",
       "\n",
       "    .dataframe tbody tr th {\n",
       "        vertical-align: top;\n",
       "    }\n",
       "\n",
       "    .dataframe thead th {\n",
       "        text-align: right;\n",
       "    }\n",
       "</style>\n",
       "<table border=\"1\" class=\"dataframe\">\n",
       "  <thead>\n",
       "    <tr style=\"text-align: right;\">\n",
       "      <th></th>\n",
       "      <th>count</th>\n",
       "      <th>unique</th>\n",
       "      <th>top</th>\n",
       "      <th>freq</th>\n",
       "      <th>mean</th>\n",
       "      <th>std</th>\n",
       "      <th>min</th>\n",
       "      <th>25%</th>\n",
       "      <th>50%</th>\n",
       "      <th>75%</th>\n",
       "      <th>max</th>\n",
       "    </tr>\n",
       "  </thead>\n",
       "  <tbody>\n",
       "    <tr>\n",
       "      <th>Id</th>\n",
       "      <td>10000</td>\n",
       "      <td>10000</td>\n",
       "      <td>14038</td>\n",
       "      <td>1</td>\n",
       "      <td>NaN</td>\n",
       "      <td>NaN</td>\n",
       "      <td>NaN</td>\n",
       "      <td>NaN</td>\n",
       "      <td>NaN</td>\n",
       "      <td>NaN</td>\n",
       "      <td>NaN</td>\n",
       "    </tr>\n",
       "    <tr>\n",
       "      <th>DistrictId</th>\n",
       "      <td>10000.0</td>\n",
       "      <td>NaN</td>\n",
       "      <td>NaN</td>\n",
       "      <td>NaN</td>\n",
       "      <td>50.4008</td>\n",
       "      <td>43.587592</td>\n",
       "      <td>0.0</td>\n",
       "      <td>20.0</td>\n",
       "      <td>36.0</td>\n",
       "      <td>75.0</td>\n",
       "      <td>209.0</td>\n",
       "    </tr>\n",
       "    <tr>\n",
       "      <th>Rooms</th>\n",
       "      <td>10000.0</td>\n",
       "      <td>NaN</td>\n",
       "      <td>NaN</td>\n",
       "      <td>NaN</td>\n",
       "      <td>1.8905</td>\n",
       "      <td>0.839512</td>\n",
       "      <td>0.0</td>\n",
       "      <td>1.0</td>\n",
       "      <td>2.0</td>\n",
       "      <td>2.0</td>\n",
       "      <td>19.0</td>\n",
       "    </tr>\n",
       "    <tr>\n",
       "      <th>Square</th>\n",
       "      <td>10000.0</td>\n",
       "      <td>NaN</td>\n",
       "      <td>NaN</td>\n",
       "      <td>NaN</td>\n",
       "      <td>56.315775</td>\n",
       "      <td>21.058732</td>\n",
       "      <td>1.136859</td>\n",
       "      <td>41.774881</td>\n",
       "      <td>52.51331</td>\n",
       "      <td>65.900625</td>\n",
       "      <td>641.065193</td>\n",
       "    </tr>\n",
       "    <tr>\n",
       "      <th>LifeSquare</th>\n",
       "      <td>10000.0</td>\n",
       "      <td>NaN</td>\n",
       "      <td>NaN</td>\n",
       "      <td>NaN</td>\n",
       "      <td>36.990868</td>\n",
       "      <td>76.848476</td>\n",
       "      <td>0.370619</td>\n",
       "      <td>23.949834</td>\n",
       "      <td>33.129704</td>\n",
       "      <td>44.655055</td>\n",
       "      <td>7480.592129</td>\n",
       "    </tr>\n",
       "    <tr>\n",
       "      <th>KitchenSquare</th>\n",
       "      <td>10000.0</td>\n",
       "      <td>NaN</td>\n",
       "      <td>NaN</td>\n",
       "      <td>NaN</td>\n",
       "      <td>6.2733</td>\n",
       "      <td>28.560917</td>\n",
       "      <td>0.0</td>\n",
       "      <td>1.0</td>\n",
       "      <td>6.0</td>\n",
       "      <td>9.0</td>\n",
       "      <td>2014.0</td>\n",
       "    </tr>\n",
       "    <tr>\n",
       "      <th>Floor</th>\n",
       "      <td>10000.0</td>\n",
       "      <td>NaN</td>\n",
       "      <td>NaN</td>\n",
       "      <td>NaN</td>\n",
       "      <td>8.5267</td>\n",
       "      <td>5.241148</td>\n",
       "      <td>1.0</td>\n",
       "      <td>4.0</td>\n",
       "      <td>7.0</td>\n",
       "      <td>12.0</td>\n",
       "      <td>42.0</td>\n",
       "    </tr>\n",
       "    <tr>\n",
       "      <th>HouseFloor</th>\n",
       "      <td>10000.0</td>\n",
       "      <td>NaN</td>\n",
       "      <td>NaN</td>\n",
       "      <td>NaN</td>\n",
       "      <td>12.6094</td>\n",
       "      <td>6.775974</td>\n",
       "      <td>0.0</td>\n",
       "      <td>9.0</td>\n",
       "      <td>13.0</td>\n",
       "      <td>17.0</td>\n",
       "      <td>117.0</td>\n",
       "    </tr>\n",
       "    <tr>\n",
       "      <th>HouseYear</th>\n",
       "      <td>10000.0</td>\n",
       "      <td>NaN</td>\n",
       "      <td>NaN</td>\n",
       "      <td>NaN</td>\n",
       "      <td>3990.1663</td>\n",
       "      <td>200500.261427</td>\n",
       "      <td>1910.0</td>\n",
       "      <td>1974.0</td>\n",
       "      <td>1977.0</td>\n",
       "      <td>2001.0</td>\n",
       "      <td>20052011.0</td>\n",
       "    </tr>\n",
       "    <tr>\n",
       "      <th>Ecology_1</th>\n",
       "      <td>10000.0</td>\n",
       "      <td>NaN</td>\n",
       "      <td>NaN</td>\n",
       "      <td>NaN</td>\n",
       "      <td>0.118858</td>\n",
       "      <td>0.119025</td>\n",
       "      <td>0.0</td>\n",
       "      <td>0.017647</td>\n",
       "      <td>0.075424</td>\n",
       "      <td>0.195781</td>\n",
       "      <td>0.521867</td>\n",
       "    </tr>\n",
       "    <tr>\n",
       "      <th>Ecology_2</th>\n",
       "      <td>10000</td>\n",
       "      <td>2</td>\n",
       "      <td>B</td>\n",
       "      <td>9903</td>\n",
       "      <td>NaN</td>\n",
       "      <td>NaN</td>\n",
       "      <td>NaN</td>\n",
       "      <td>NaN</td>\n",
       "      <td>NaN</td>\n",
       "      <td>NaN</td>\n",
       "      <td>NaN</td>\n",
       "    </tr>\n",
       "    <tr>\n",
       "      <th>Ecology_3</th>\n",
       "      <td>10000</td>\n",
       "      <td>2</td>\n",
       "      <td>B</td>\n",
       "      <td>9725</td>\n",
       "      <td>NaN</td>\n",
       "      <td>NaN</td>\n",
       "      <td>NaN</td>\n",
       "      <td>NaN</td>\n",
       "      <td>NaN</td>\n",
       "      <td>NaN</td>\n",
       "      <td>NaN</td>\n",
       "    </tr>\n",
       "    <tr>\n",
       "      <th>Social_1</th>\n",
       "      <td>10000.0</td>\n",
       "      <td>NaN</td>\n",
       "      <td>NaN</td>\n",
       "      <td>NaN</td>\n",
       "      <td>24.687</td>\n",
       "      <td>17.532614</td>\n",
       "      <td>0.0</td>\n",
       "      <td>6.0</td>\n",
       "      <td>25.0</td>\n",
       "      <td>36.0</td>\n",
       "      <td>74.0</td>\n",
       "    </tr>\n",
       "    <tr>\n",
       "      <th>Social_2</th>\n",
       "      <td>10000.0</td>\n",
       "      <td>NaN</td>\n",
       "      <td>NaN</td>\n",
       "      <td>NaN</td>\n",
       "      <td>5352.1574</td>\n",
       "      <td>4006.799803</td>\n",
       "      <td>168.0</td>\n",
       "      <td>1564.0</td>\n",
       "      <td>5285.0</td>\n",
       "      <td>7227.0</td>\n",
       "      <td>19083.0</td>\n",
       "    </tr>\n",
       "    <tr>\n",
       "      <th>Social_3</th>\n",
       "      <td>10000.0</td>\n",
       "      <td>NaN</td>\n",
       "      <td>NaN</td>\n",
       "      <td>NaN</td>\n",
       "      <td>8.0392</td>\n",
       "      <td>23.831875</td>\n",
       "      <td>0.0</td>\n",
       "      <td>0.0</td>\n",
       "      <td>2.0</td>\n",
       "      <td>5.0</td>\n",
       "      <td>141.0</td>\n",
       "    </tr>\n",
       "    <tr>\n",
       "      <th>Healthcare_1</th>\n",
       "      <td>5202.0</td>\n",
       "      <td>NaN</td>\n",
       "      <td>NaN</td>\n",
       "      <td>NaN</td>\n",
       "      <td>1142.90446</td>\n",
       "      <td>1021.517264</td>\n",
       "      <td>0.0</td>\n",
       "      <td>350.0</td>\n",
       "      <td>900.0</td>\n",
       "      <td>1548.0</td>\n",
       "      <td>4849.0</td>\n",
       "    </tr>\n",
       "    <tr>\n",
       "      <th>Helthcare_2</th>\n",
       "      <td>10000.0</td>\n",
       "      <td>NaN</td>\n",
       "      <td>NaN</td>\n",
       "      <td>NaN</td>\n",
       "      <td>1.3195</td>\n",
       "      <td>1.493601</td>\n",
       "      <td>0.0</td>\n",
       "      <td>0.0</td>\n",
       "      <td>1.0</td>\n",
       "      <td>2.0</td>\n",
       "      <td>6.0</td>\n",
       "    </tr>\n",
       "    <tr>\n",
       "      <th>Shops_1</th>\n",
       "      <td>10000.0</td>\n",
       "      <td>NaN</td>\n",
       "      <td>NaN</td>\n",
       "      <td>NaN</td>\n",
       "      <td>4.2313</td>\n",
       "      <td>4.806341</td>\n",
       "      <td>0.0</td>\n",
       "      <td>1.0</td>\n",
       "      <td>3.0</td>\n",
       "      <td>6.0</td>\n",
       "      <td>23.0</td>\n",
       "    </tr>\n",
       "    <tr>\n",
       "      <th>Shops_2</th>\n",
       "      <td>10000</td>\n",
       "      <td>2</td>\n",
       "      <td>B</td>\n",
       "      <td>9175</td>\n",
       "      <td>NaN</td>\n",
       "      <td>NaN</td>\n",
       "      <td>NaN</td>\n",
       "      <td>NaN</td>\n",
       "      <td>NaN</td>\n",
       "      <td>NaN</td>\n",
       "      <td>NaN</td>\n",
       "    </tr>\n",
       "    <tr>\n",
       "      <th>Price</th>\n",
       "      <td>10000.0</td>\n",
       "      <td>NaN</td>\n",
       "      <td>NaN</td>\n",
       "      <td>NaN</td>\n",
       "      <td>214138.857399</td>\n",
       "      <td>92872.293865</td>\n",
       "      <td>59174.778028</td>\n",
       "      <td>153872.633942</td>\n",
       "      <td>192269.644879</td>\n",
       "      <td>249135.462171</td>\n",
       "      <td>633233.46657</td>\n",
       "    </tr>\n",
       "  </tbody>\n",
       "</table>\n",
       "</div>"
      ],
      "text/plain": [
       "                 count unique    top  freq           mean            std  \\\n",
       "Id               10000  10000  14038     1            NaN            NaN   \n",
       "DistrictId     10000.0    NaN    NaN   NaN        50.4008      43.587592   \n",
       "Rooms          10000.0    NaN    NaN   NaN         1.8905       0.839512   \n",
       "Square         10000.0    NaN    NaN   NaN      56.315775      21.058732   \n",
       "LifeSquare     10000.0    NaN    NaN   NaN      36.990868      76.848476   \n",
       "KitchenSquare  10000.0    NaN    NaN   NaN         6.2733      28.560917   \n",
       "Floor          10000.0    NaN    NaN   NaN         8.5267       5.241148   \n",
       "HouseFloor     10000.0    NaN    NaN   NaN        12.6094       6.775974   \n",
       "HouseYear      10000.0    NaN    NaN   NaN      3990.1663  200500.261427   \n",
       "Ecology_1      10000.0    NaN    NaN   NaN       0.118858       0.119025   \n",
       "Ecology_2        10000      2      B  9903            NaN            NaN   \n",
       "Ecology_3        10000      2      B  9725            NaN            NaN   \n",
       "Social_1       10000.0    NaN    NaN   NaN         24.687      17.532614   \n",
       "Social_2       10000.0    NaN    NaN   NaN      5352.1574    4006.799803   \n",
       "Social_3       10000.0    NaN    NaN   NaN         8.0392      23.831875   \n",
       "Healthcare_1    5202.0    NaN    NaN   NaN     1142.90446    1021.517264   \n",
       "Helthcare_2    10000.0    NaN    NaN   NaN         1.3195       1.493601   \n",
       "Shops_1        10000.0    NaN    NaN   NaN         4.2313       4.806341   \n",
       "Shops_2          10000      2      B  9175            NaN            NaN   \n",
       "Price          10000.0    NaN    NaN   NaN  214138.857399   92872.293865   \n",
       "\n",
       "                        min            25%            50%            75%  \\\n",
       "Id                      NaN            NaN            NaN            NaN   \n",
       "DistrictId              0.0           20.0           36.0           75.0   \n",
       "Rooms                   0.0            1.0            2.0            2.0   \n",
       "Square             1.136859      41.774881       52.51331      65.900625   \n",
       "LifeSquare         0.370619      23.949834      33.129704      44.655055   \n",
       "KitchenSquare           0.0            1.0            6.0            9.0   \n",
       "Floor                   1.0            4.0            7.0           12.0   \n",
       "HouseFloor              0.0            9.0           13.0           17.0   \n",
       "HouseYear            1910.0         1974.0         1977.0         2001.0   \n",
       "Ecology_1               0.0       0.017647       0.075424       0.195781   \n",
       "Ecology_2               NaN            NaN            NaN            NaN   \n",
       "Ecology_3               NaN            NaN            NaN            NaN   \n",
       "Social_1                0.0            6.0           25.0           36.0   \n",
       "Social_2              168.0         1564.0         5285.0         7227.0   \n",
       "Social_3                0.0            0.0            2.0            5.0   \n",
       "Healthcare_1            0.0          350.0          900.0         1548.0   \n",
       "Helthcare_2             0.0            0.0            1.0            2.0   \n",
       "Shops_1                 0.0            1.0            3.0            6.0   \n",
       "Shops_2                 NaN            NaN            NaN            NaN   \n",
       "Price          59174.778028  153872.633942  192269.644879  249135.462171   \n",
       "\n",
       "                        max  \n",
       "Id                      NaN  \n",
       "DistrictId            209.0  \n",
       "Rooms                  19.0  \n",
       "Square           641.065193  \n",
       "LifeSquare      7480.592129  \n",
       "KitchenSquare        2014.0  \n",
       "Floor                  42.0  \n",
       "HouseFloor            117.0  \n",
       "HouseYear        20052011.0  \n",
       "Ecology_1          0.521867  \n",
       "Ecology_2               NaN  \n",
       "Ecology_3               NaN  \n",
       "Social_1               74.0  \n",
       "Social_2            19083.0  \n",
       "Social_3              141.0  \n",
       "Healthcare_1         4849.0  \n",
       "Helthcare_2             6.0  \n",
       "Shops_1                23.0  \n",
       "Shops_2                 NaN  \n",
       "Price          633233.46657  "
      ]
     },
     "execution_count": 16,
     "metadata": {},
     "output_type": "execute_result"
    }
   ],
   "source": [
    "# анализ данных\n",
    "df.describe(include='all').transpose()"
   ]
  },
  {
   "cell_type": "code",
   "execution_count": 17,
   "metadata": {},
   "outputs": [
    {
     "data": {
      "text/plain": [
       "<AxesSubplot:xlabel='Rooms'>"
      ]
     },
     "execution_count": 17,
     "metadata": {},
     "output_type": "execute_result"
    },
    {
     "data": {
      "image/png": "[encoded data removed]",
      "text/plain": [
       "<Figure size 432x288 with 1 Axes>"
      ]
     },
     "metadata": {
      "needs_background": "light"
     },
     "output_type": "display_data"
    }
   ],
   "source": [
    "sns.boxplot(df['Rooms'])"
   ]
  },
  {
   "cell_type": "code",
   "execution_count": 18,
   "metadata": {},
   "outputs": [
    {
     "data": {
      "text/plain": [
       "4.0"
      ]
     },
     "execution_count": 18,
     "metadata": {},
     "output_type": "execute_result"
    }
   ],
   "source": [
    "np.percentile(df['Rooms'], 99.6)"
   ]
  },
  {
   "cell_type": "code",
   "execution_count": 19,
   "metadata": {},
   "outputs": [
    {
     "data": {
      "text/plain": [
       "2.0"
      ]
     },
     "execution_count": 19,
     "metadata": {},
     "output_type": "execute_result"
    }
   ],
   "source": [
    "median_of_Rooms = df['Rooms'].median()\n",
    "median_of_Rooms"
   ]
  },
  {
   "cell_type": "code",
   "execution_count": 20,
   "metadata": {},
   "outputs": [],
   "source": [
    "# значение 0 и больше 5 прировняем к медиане\n",
    "df.loc[(df['Rooms'] == 0 ) | (df['Rooms'] > 5) , 'Rooms'] = median_of_Rooms"
   ]
  },
  {
   "cell_type": "code",
   "execution_count": 21,
   "metadata": {},
   "outputs": [
    {
     "data": {
      "text/plain": [
       "<AxesSubplot:xlabel='Rooms'>"
      ]
     },
     "execution_count": 21,
     "metadata": {},
     "output_type": "execute_result"
    },
    {
     "data": {
      "image/png": "[encoded data removed]",
      "text/plain": [
       "<Figure size 432x288 with 1 Axes>"
      ]
     },
     "metadata": {
      "needs_background": "light"
     },
     "output_type": "display_data"
    }
   ],
   "source": [
    "sns.boxplot(df['Rooms'])"
   ]
  },
  {
   "cell_type": "code",
   "execution_count": 22,
   "metadata": {
    "colab": {
     "base_uri": "https://localhost:8080/",
     "height": 351
    },
    "executionInfo": {
     "elapsed": 870,
     "status": "ok",
     "timestamp": 1671111990254,
     "user": {
      "displayName": "Yuriy Volkov",
      "userId": "03511939659137495578"
     },
     "user_tz": -180
    },
    "id": "xiG0Y22tBPsI",
    "outputId": "847bff54-d4f6-4c09-bee8-de3162a65f36"
   },
   "outputs": [
    {
     "data": {
      "text/plain": [
       "<AxesSubplot:xlabel='Square'>"
      ]
     },
     "execution_count": 22,
     "metadata": {},
     "output_type": "execute_result"
    },
    {
     "data": {
      "image/png": "[encoded data removed]",
      "text/plain": [
       "<Figure size 432x288 with 1 Axes>"
      ]
     },
     "metadata": {
      "needs_background": "light"
     },
     "output_type": "display_data"
    }
   ],
   "source": [
    "# анализ параметра Square\n",
    "sns.boxplot(df['Square'])"
   ]
  },
  {
   "cell_type": "code",
   "execution_count": 23,
   "metadata": {},
   "outputs": [
    {
     "data": {
      "text/plain": [
       "135.96324808847402"
      ]
     },
     "execution_count": 23,
     "metadata": {},
     "output_type": "execute_result"
    }
   ],
   "source": [
    "np.percentile(df['Square'], 99.6)"
   ]
  },
  {
   "cell_type": "code",
   "execution_count": 24,
   "metadata": {},
   "outputs": [],
   "source": [
    "# значения Square 0 или больше 150 приводим к медиане\n",
    "df.loc[(df['Square'] == 0 ) | (df['Square'] > 150) , 'Square'] = df['Square'].median()"
   ]
  },
  {
   "cell_type": "code",
   "execution_count": 25,
   "metadata": {},
   "outputs": [
    {
     "data": {
      "text/plain": [
       "<AxesSubplot:xlabel='Square', ylabel='Density'>"
      ]
     },
     "execution_count": 25,
     "metadata": {},
     "output_type": "execute_result"
    },
    {
     "data": {
      "image/png": "[encoded data removed]",
      "text/plain": [
       "<Figure size 432x288 with 1 Axes>"
      ]
     },
     "metadata": {
      "needs_background": "light"
     },
     "output_type": "display_data"
    }
   ],
   "source": [
    "sns.distplot(df['Square'])"
   ]
  },
  {
   "cell_type": "code",
   "execution_count": 26,
   "metadata": {},
   "outputs": [
    {
     "data": {
      "text/plain": [
       "<AxesSubplot:xlabel='LifeSquare'>"
      ]
     },
     "execution_count": 26,
     "metadata": {},
     "output_type": "execute_result"
    },
    {
     "data": {
      "image/png": "[encoded data removed]",
      "text/plain": [
       "<Figure size 432x288 with 1 Axes>"
      ]
     },
     "metadata": {
      "needs_background": "light"
     },
     "output_type": "display_data"
    }
   ],
   "source": [
    "# анализ параметра LifeSquare\n",
    "sns.boxplot(df['LifeSquare'])"
   ]
  },
  {
   "cell_type": "code",
   "execution_count": 27,
   "metadata": {},
   "outputs": [
    {
     "data": {
      "text/plain": [
       "107.93313414052342"
      ]
     },
     "execution_count": 27,
     "metadata": {},
     "output_type": "execute_result"
    }
   ],
   "source": [
    "np.percentile(df['LifeSquare'], 99.6)"
   ]
  },
  {
   "cell_type": "code",
   "execution_count": 28,
   "metadata": {},
   "outputs": [],
   "source": [
    "# значения LifeSquare 0 или больше 150 приводим к медиане\n",
    "df.loc[(df['LifeSquare'] == 0 ) | (df['LifeSquare'] > 150) , 'LifeSquare'] = df['LifeSquare'].median()\n",
    "df.loc[(df['LifeSquare'] > df['Square']), 'LifeSquare'] = df['Square']"
   ]
  },
  {
   "cell_type": "code",
   "execution_count": 29,
   "metadata": {
    "colab": {
     "base_uri": "https://localhost:8080/",
     "height": 351
    },
    "executionInfo": {
     "elapsed": 1119,
     "status": "ok",
     "timestamp": 1671111310001,
     "user": {
      "displayName": "Yuriy Volkov",
      "userId": "03511939659137495578"
     },
     "user_tz": -180
    },
    "id": "1xuH4NOP9WBU",
    "outputId": "aa70e016-5013-4c77-debb-d482ecf06a99"
   },
   "outputs": [
    {
     "data": {
      "text/plain": [
       "<AxesSubplot:xlabel='LifeSquare', ylabel='Density'>"
      ]
     },
     "execution_count": 29,
     "metadata": {},
     "output_type": "execute_result"
    },
    {
     "data": {
      "image/png": "[encoded data removed]",
      "text/plain": [
       "<Figure size 432x288 with 1 Axes>"
      ]
     },
     "metadata": {
      "needs_background": "light"
     },
     "output_type": "display_data"
    }
   ],
   "source": [
    "sns.distplot(df['LifeSquare'])"
   ]
  },
  {
   "cell_type": "code",
   "execution_count": 30,
   "metadata": {},
   "outputs": [
    {
     "data": {
      "text/plain": [
       "26.004000000000815"
      ]
     },
     "execution_count": 30,
     "metadata": {},
     "output_type": "execute_result"
    },
    {
     "data": {
      "image/png": "[encoded data removed]",
      "text/plain": [
       "<Figure size 432x288 with 1 Axes>"
      ]
     },
     "metadata": {
      "needs_background": "light"
     },
     "output_type": "display_data"
    }
   ],
   "source": [
    "# анализ параметра KitchenSquare\n",
    "sns.boxplot(df['KitchenSquare'])\n",
    "np.percentile(df['KitchenSquare'], 99.6)"
   ]
  },
  {
   "cell_type": "code",
   "execution_count": 31,
   "metadata": {},
   "outputs": [],
   "source": [
    "# значения KitchenSquare 0 или больше 30 приводим к медиане\n",
    "df.loc[(df['KitchenSquare'] == 0 ) | (df['KitchenSquare'] > 30) , 'KitchenSquare'] = df['KitchenSquare'].median()"
   ]
  },
  {
   "cell_type": "code",
   "execution_count": 32,
   "metadata": {},
   "outputs": [
    {
     "data": {
      "text/plain": [
       "<AxesSubplot:xlabel='KitchenSquare', ylabel='Density'>"
      ]
     },
     "execution_count": 32,
     "metadata": {},
     "output_type": "execute_result"
    },
    {
     "data": {
      "image/png": "[encoded data removed]",
      "text/plain": [
       "<Figure size 432x288 with 1 Axes>"
      ]
     },
     "metadata": {
      "needs_background": "light"
     },
     "output_type": "display_data"
    }
   ],
   "source": [
    "sns.distplot(df['KitchenSquare'])"
   ]
  },
  {
   "cell_type": "code",
   "execution_count": 33,
   "metadata": {
    "colab": {
     "base_uri": "https://localhost:8080/",
     "height": 351
    },
    "executionInfo": {
     "elapsed": 662,
     "status": "ok",
     "timestamp": 1671111884838,
     "user": {
      "displayName": "Yuriy Volkov",
      "userId": "03511939659137495578"
     },
     "user_tz": -180
    },
    "id": "uuHNqk2dB34Q",
    "outputId": "f807fc43-4a62-4754-e86a-cb6929ff2ebe"
   },
   "outputs": [
    {
     "data": {
      "text/plain": [
       "30.0"
      ]
     },
     "execution_count": 33,
     "metadata": {},
     "output_type": "execute_result"
    },
    {
     "data": {
      "image/png": "[encoded data removed]",
      "text/plain": [
       "<Figure size 432x288 with 1 Axes>"
      ]
     },
     "metadata": {
      "needs_background": "light"
     },
     "output_type": "display_data"
    }
   ],
   "source": [
    "# анализ параметра HouseFloor\n",
    "sns.boxplot(df['HouseFloor'])\n",
    "np.percentile(df['HouseFloor'], 99.6)"
   ]
  },
  {
   "cell_type": "code",
   "execution_count": 34,
   "metadata": {},
   "outputs": [],
   "source": [
    "# значения HouseFloor 0 или больше 60 приводим к медиане или к значению этажа квартиры\n",
    "median_HouseFloor = df['HouseFloor'].median()\n",
    "df.loc[(df['HouseFloor'] == 0 ) & (df['Floor'] > median_HouseFloor) , 'HouseFloor'] = df['Floor']\n",
    "df.loc[(df['HouseFloor'] == 0 ) & (df['Floor'] < median_HouseFloor) , 'HouseFloor'] = median_HouseFloor\n",
    "df.loc[(df['HouseFloor'] > 60 ) & (df['Floor'] > median_HouseFloor) , 'HouseFloor'] = df['Floor']\n",
    "df.loc[(df['HouseFloor'] > 60 ) & (df['Floor'] < median_HouseFloor) , 'HouseFloor'] = median_HouseFloor"
   ]
  },
  {
   "cell_type": "code",
   "execution_count": 35,
   "metadata": {},
   "outputs": [
    {
     "data": {
      "text/plain": [
       "<AxesSubplot:xlabel='HouseFloor', ylabel='Density'>"
      ]
     },
     "execution_count": 35,
     "metadata": {},
     "output_type": "execute_result"
    },
    {
     "data": {
      "image/png": "[encoded data removed]",
      "text/plain": [
       "<Figure size 432x288 with 1 Axes>"
      ]
     },
     "metadata": {
      "needs_background": "light"
     },
     "output_type": "display_data"
    }
   ],
   "source": [
    "sns.distplot(df['HouseFloor'])"
   ]
  },
  {
   "cell_type": "code",
   "execution_count": 36,
   "metadata": {
    "colab": {
     "base_uri": "https://localhost:8080/",
     "height": 362
    },
    "executionInfo": {
     "elapsed": 261,
     "status": "ok",
     "timestamp": 1671111356782,
     "user": {
      "displayName": "Yuriy Volkov",
      "userId": "03511939659137495578"
     },
     "user_tz": -180
    },
    "id": "bf2zGcsS_1jI",
    "outputId": "993db85b-b6f9-43dd-c2d2-ae2024a5c645"
   },
   "outputs": [
    {
     "data": {
      "text/plain": [
       "25.0"
      ]
     },
     "execution_count": 36,
     "metadata": {},
     "output_type": "execute_result"
    },
    {
     "data": {
      "image/png": "[encoded data removed]",
      "text/plain": [
       "<Figure size 432x288 with 1 Axes>"
      ]
     },
     "metadata": {
      "needs_background": "light"
     },
     "output_type": "display_data"
    }
   ],
   "source": [
    "# анализ параметра Floor\n",
    "sns.boxplot(df['Floor'])\n",
    "np.percentile(df['Floor'], 99.6)"
   ]
  },
  {
   "cell_type": "code",
   "execution_count": 37,
   "metadata": {},
   "outputs": [],
   "source": [
    "# проверяем чтобы значение Floor не превышало HouseFloor\n",
    "df.loc[(df['Floor'] > df['HouseFloor']), 'Floor']  = df['HouseFloor']"
   ]
  },
  {
   "cell_type": "markdown",
   "metadata": {
    "id": "pAyB3VoyTRFY"
   },
   "source": [
    "Обработка года"
   ]
  },
  {
   "cell_type": "code",
   "execution_count": 38,
   "metadata": {
    "colab": {
     "base_uri": "https://localhost:8080/",
     "height": 176
    },
    "executionInfo": {
     "elapsed": 21,
     "status": "ok",
     "timestamp": 1671109514308,
     "user": {
      "displayName": "Yuriy Volkov",
      "userId": "03511939659137495578"
     },
     "user_tz": -180
    },
    "id": "qRoKtDvsTXJW",
    "outputId": "eb3edb78-b6e9-48cd-e48e-0c8576aac1a8"
   },
   "outputs": [
    {
     "data": {
      "text/html": [
       "<div>\n",
       "<style scoped>\n",
       "    .dataframe tbody tr th:only-of-type {\n",
       "        vertical-align: middle;\n",
       "    }\n",
       "\n",
       "    .dataframe tbody tr th {\n",
       "        vertical-align: top;\n",
       "    }\n",
       "\n",
       "    .dataframe thead th {\n",
       "        text-align: right;\n",
       "    }\n",
       "</style>\n",
       "<table border=\"1\" class=\"dataframe\">\n",
       "  <thead>\n",
       "    <tr style=\"text-align: right;\">\n",
       "      <th></th>\n",
       "      <th>Id</th>\n",
       "      <th>DistrictId</th>\n",
       "      <th>Rooms</th>\n",
       "      <th>Square</th>\n",
       "      <th>LifeSquare</th>\n",
       "      <th>KitchenSquare</th>\n",
       "      <th>Floor</th>\n",
       "      <th>HouseFloor</th>\n",
       "      <th>HouseYear</th>\n",
       "      <th>Ecology_1</th>\n",
       "      <th>Ecology_2</th>\n",
       "      <th>Ecology_3</th>\n",
       "      <th>Social_1</th>\n",
       "      <th>Social_2</th>\n",
       "      <th>Social_3</th>\n",
       "      <th>Healthcare_1</th>\n",
       "      <th>Helthcare_2</th>\n",
       "      <th>Shops_1</th>\n",
       "      <th>Shops_2</th>\n",
       "      <th>Price</th>\n",
       "    </tr>\n",
       "  </thead>\n",
       "  <tbody>\n",
       "    <tr>\n",
       "      <th>1497</th>\n",
       "      <td>10814</td>\n",
       "      <td>109</td>\n",
       "      <td>1</td>\n",
       "      <td>37.265070</td>\n",
       "      <td>20.239714</td>\n",
       "      <td>9.0</td>\n",
       "      <td>9</td>\n",
       "      <td>12</td>\n",
       "      <td>20052011</td>\n",
       "      <td>0.136330</td>\n",
       "      <td>B</td>\n",
       "      <td>B</td>\n",
       "      <td>30</td>\n",
       "      <td>6141</td>\n",
       "      <td>10</td>\n",
       "      <td>262.0</td>\n",
       "      <td>3</td>\n",
       "      <td>6</td>\n",
       "      <td>B</td>\n",
       "      <td>254084.534396</td>\n",
       "    </tr>\n",
       "    <tr>\n",
       "      <th>4189</th>\n",
       "      <td>11607</td>\n",
       "      <td>147</td>\n",
       "      <td>2</td>\n",
       "      <td>44.791836</td>\n",
       "      <td>28.360393</td>\n",
       "      <td>5.0</td>\n",
       "      <td>4</td>\n",
       "      <td>9</td>\n",
       "      <td>4968</td>\n",
       "      <td>0.319809</td>\n",
       "      <td>B</td>\n",
       "      <td>B</td>\n",
       "      <td>25</td>\n",
       "      <td>4756</td>\n",
       "      <td>16</td>\n",
       "      <td>2857.0</td>\n",
       "      <td>5</td>\n",
       "      <td>8</td>\n",
       "      <td>B</td>\n",
       "      <td>243028.603096</td>\n",
       "    </tr>\n",
       "  </tbody>\n",
       "</table>\n",
       "</div>"
      ],
      "text/plain": [
       "         Id  DistrictId  Rooms     Square  LifeSquare  KitchenSquare  Floor  \\\n",
       "1497  10814         109      1  37.265070   20.239714            9.0      9   \n",
       "4189  11607         147      2  44.791836   28.360393            5.0      4   \n",
       "\n",
       "      HouseFloor  HouseYear  Ecology_1 Ecology_2 Ecology_3  Social_1  \\\n",
       "1497          12   20052011   0.136330         B         B        30   \n",
       "4189           9       4968   0.319809         B         B        25   \n",
       "\n",
       "      Social_2  Social_3  Healthcare_1  Helthcare_2  Shops_1 Shops_2  \\\n",
       "1497      6141        10         262.0            3        6       B   \n",
       "4189      4756        16        2857.0            5        8       B   \n",
       "\n",
       "              Price  \n",
       "1497  254084.534396  \n",
       "4189  243028.603096  "
      ]
     },
     "execution_count": 38,
     "metadata": {},
     "output_type": "execute_result"
    }
   ],
   "source": [
    "# находим неадекватные значения\n",
    "currentYear = datetime.now().year\n",
    "\n",
    "df[df['HouseYear'] > datetime.now().year]"
   ]
  },
  {
   "cell_type": "code",
   "execution_count": 39,
   "metadata": {
    "executionInfo": {
     "elapsed": 20,
     "status": "ok",
     "timestamp": 1671109514308,
     "user": {
      "displayName": "Yuriy Volkov",
      "userId": "03511939659137495578"
     },
     "user_tz": -180
    },
    "id": "R1Jx30TxUPFK"
   },
   "outputs": [],
   "source": [
    "# заменяем года выше текущего на медиану\n",
    "df.loc[df['HouseYear']>datetime.now().year, 'HouseYear'] = df['HouseYear'].median()"
   ]
  },
  {
   "cell_type": "code",
   "execution_count": 40,
   "metadata": {
    "colab": {
     "base_uri": "https://localhost:8080/"
    },
    "executionInfo": {
     "elapsed": 21,
     "status": "ok",
     "timestamp": 1671109514309,
     "user": {
      "displayName": "Yuriy Volkov",
      "userId": "03511939659137495578"
     },
     "user_tz": -180
    },
    "id": "m35vaEUSUr0n",
    "outputId": "03bd8fed-a815-4fa5-8de0-fcf6f52fd387"
   },
   "outputs": [
    {
     "data": {
      "text/plain": [
       "count    10000.000000\n",
       "mean      1984.863800\n",
       "std         18.409979\n",
       "min       1910.000000\n",
       "25%       1974.000000\n",
       "50%       1977.000000\n",
       "75%       2001.000000\n",
       "max       2020.000000\n",
       "Name: HouseYear, dtype: float64"
      ]
     },
     "execution_count": 40,
     "metadata": {},
     "output_type": "execute_result"
    }
   ],
   "source": [
    "df['HouseYear'].describe()"
   ]
  },
  {
   "cell_type": "markdown",
   "metadata": {
    "id": "Rd3odjZZmWwK"
   },
   "source": [
    "Исключение признака id"
   ]
  },
  {
   "cell_type": "code",
   "execution_count": 41,
   "metadata": {
    "colab": {
     "base_uri": "https://localhost:8080/"
    },
    "executionInfo": {
     "elapsed": 19,
     "status": "ok",
     "timestamp": 1671109514309,
     "user": {
      "displayName": "Yuriy Volkov",
      "userId": "03511939659137495578"
     },
     "user_tz": -180
    },
    "id": "jsOPE_wqmcF_",
    "outputId": "2d8a9070-6e67-4ac2-fe4f-c18fb26cfdce"
   },
   "outputs": [
    {
     "data": {
      "text/plain": [
       "Index(['Id', 'DistrictId', 'Rooms', 'Square', 'LifeSquare', 'KitchenSquare',\n",
       "       'Floor', 'HouseFloor', 'HouseYear', 'Ecology_1', 'Ecology_2',\n",
       "       'Ecology_3', 'Social_1', 'Social_2', 'Social_3', 'Healthcare_1',\n",
       "       'Helthcare_2', 'Shops_1', 'Shops_2', 'Price'],\n",
       "      dtype='object')"
      ]
     },
     "execution_count": 41,
     "metadata": {},
     "output_type": "execute_result"
    }
   ],
   "source": [
    "df.columns"
   ]
  },
  {
   "cell_type": "code",
   "execution_count": 42,
   "metadata": {
    "colab": {
     "base_uri": "https://localhost:8080/"
    },
    "executionInfo": {
     "elapsed": 18,
     "status": "ok",
     "timestamp": 1671109514310,
     "user": {
      "displayName": "Yuriy Volkov",
      "userId": "03511939659137495578"
     },
     "user_tz": -180
    },
    "id": "xVmCiEwPmuPw",
    "outputId": "b52e269e-fc2e-46be-83cd-b707a702024e"
   },
   "outputs": [
    {
     "data": {
      "text/plain": [
       "Index(['DistrictId', 'Rooms', 'Square', 'LifeSquare', 'KitchenSquare', 'Floor',\n",
       "       'HouseFloor', 'HouseYear', 'Ecology_1', 'Ecology_2', 'Ecology_3',\n",
       "       'Social_1', 'Social_2', 'Social_3', 'Healthcare_1', 'Helthcare_2',\n",
       "       'Shops_1', 'Shops_2', 'Price'],\n",
       "      dtype='object')"
      ]
     },
     "execution_count": 42,
     "metadata": {},
     "output_type": "execute_result"
    }
   ],
   "source": [
    "# перзаписываем датафрейм без первого столбца\n",
    "df = df[df.columns[1:]]\n",
    "\n",
    "# проверяем \n",
    "df.columns"
   ]
  },
  {
   "cell_type": "markdown",
   "metadata": {
    "id": "3Il696M3olCu"
   },
   "source": [
    "Преобразование категориальных признаков"
   ]
  },
  {
   "cell_type": "code",
   "execution_count": 43,
   "metadata": {
    "colab": {
     "base_uri": "https://localhost:8080/",
     "height": 300
    },
    "executionInfo": {
     "elapsed": 16,
     "status": "ok",
     "timestamp": 1671109514310,
     "user": {
      "displayName": "Yuriy Volkov",
      "userId": "03511939659137495578"
     },
     "user_tz": -180
    },
    "id": "n_VivHlBoocO",
    "outputId": "e06bfa1f-8e9b-4f55-ccf2-e9484f568de0"
   },
   "outputs": [
    {
     "data": {
      "text/html": [
       "<div>\n",
       "<style scoped>\n",
       "    .dataframe tbody tr th:only-of-type {\n",
       "        vertical-align: middle;\n",
       "    }\n",
       "\n",
       "    .dataframe tbody tr th {\n",
       "        vertical-align: top;\n",
       "    }\n",
       "\n",
       "    .dataframe thead th {\n",
       "        text-align: right;\n",
       "    }\n",
       "</style>\n",
       "<table border=\"1\" class=\"dataframe\">\n",
       "  <thead>\n",
       "    <tr style=\"text-align: right;\">\n",
       "      <th></th>\n",
       "      <th>DistrictId</th>\n",
       "      <th>Rooms</th>\n",
       "      <th>Square</th>\n",
       "      <th>LifeSquare</th>\n",
       "      <th>KitchenSquare</th>\n",
       "      <th>Floor</th>\n",
       "      <th>HouseFloor</th>\n",
       "      <th>HouseYear</th>\n",
       "      <th>Ecology_1</th>\n",
       "      <th>Ecology_2</th>\n",
       "      <th>...</th>\n",
       "      <th>Helthcare_2</th>\n",
       "      <th>Shops_1</th>\n",
       "      <th>Shops_2</th>\n",
       "      <th>Price</th>\n",
       "      <th>Eco_2_A</th>\n",
       "      <th>Eco_2_B</th>\n",
       "      <th>Eco_3_A</th>\n",
       "      <th>Eco_3_B</th>\n",
       "      <th>Sh_2_A</th>\n",
       "      <th>Sh_2_B</th>\n",
       "    </tr>\n",
       "  </thead>\n",
       "  <tbody>\n",
       "    <tr>\n",
       "      <th>1003</th>\n",
       "      <td>3</td>\n",
       "      <td>1</td>\n",
       "      <td>40.542284</td>\n",
       "      <td>21.907003</td>\n",
       "      <td>6.0</td>\n",
       "      <td>5</td>\n",
       "      <td>9</td>\n",
       "      <td>1977</td>\n",
       "      <td>0.050900</td>\n",
       "      <td>B</td>\n",
       "      <td>...</td>\n",
       "      <td>2</td>\n",
       "      <td>3</td>\n",
       "      <td>B</td>\n",
       "      <td>138357.733272</td>\n",
       "      <td>0</td>\n",
       "      <td>1</td>\n",
       "      <td>0</td>\n",
       "      <td>1</td>\n",
       "      <td>0</td>\n",
       "      <td>1</td>\n",
       "    </tr>\n",
       "    <tr>\n",
       "      <th>7929</th>\n",
       "      <td>41</td>\n",
       "      <td>3</td>\n",
       "      <td>63.555429</td>\n",
       "      <td>44.365271</td>\n",
       "      <td>8.0</td>\n",
       "      <td>8</td>\n",
       "      <td>9</td>\n",
       "      <td>1979</td>\n",
       "      <td>0.000070</td>\n",
       "      <td>B</td>\n",
       "      <td>...</td>\n",
       "      <td>1</td>\n",
       "      <td>16</td>\n",
       "      <td>B</td>\n",
       "      <td>275489.807669</td>\n",
       "      <td>0</td>\n",
       "      <td>1</td>\n",
       "      <td>0</td>\n",
       "      <td>1</td>\n",
       "      <td>0</td>\n",
       "      <td>1</td>\n",
       "    </tr>\n",
       "    <tr>\n",
       "      <th>6871</th>\n",
       "      <td>6</td>\n",
       "      <td>2</td>\n",
       "      <td>73.612474</td>\n",
       "      <td>44.167485</td>\n",
       "      <td>1.0</td>\n",
       "      <td>15</td>\n",
       "      <td>17</td>\n",
       "      <td>1977</td>\n",
       "      <td>0.243205</td>\n",
       "      <td>B</td>\n",
       "      <td>...</td>\n",
       "      <td>0</td>\n",
       "      <td>0</td>\n",
       "      <td>B</td>\n",
       "      <td>186743.170384</td>\n",
       "      <td>0</td>\n",
       "      <td>1</td>\n",
       "      <td>0</td>\n",
       "      <td>1</td>\n",
       "      <td>0</td>\n",
       "      <td>1</td>\n",
       "    </tr>\n",
       "    <tr>\n",
       "      <th>1018</th>\n",
       "      <td>119</td>\n",
       "      <td>1</td>\n",
       "      <td>32.860029</td>\n",
       "      <td>23.940883</td>\n",
       "      <td>5.0</td>\n",
       "      <td>3</td>\n",
       "      <td>9</td>\n",
       "      <td>1968</td>\n",
       "      <td>0.000995</td>\n",
       "      <td>B</td>\n",
       "      <td>...</td>\n",
       "      <td>1</td>\n",
       "      <td>5</td>\n",
       "      <td>B</td>\n",
       "      <td>129339.268164</td>\n",
       "      <td>0</td>\n",
       "      <td>1</td>\n",
       "      <td>0</td>\n",
       "      <td>1</td>\n",
       "      <td>0</td>\n",
       "      <td>1</td>\n",
       "    </tr>\n",
       "    <tr>\n",
       "      <th>6739</th>\n",
       "      <td>55</td>\n",
       "      <td>1</td>\n",
       "      <td>39.770285</td>\n",
       "      <td>22.063326</td>\n",
       "      <td>8.0</td>\n",
       "      <td>11</td>\n",
       "      <td>25</td>\n",
       "      <td>2004</td>\n",
       "      <td>0.041365</td>\n",
       "      <td>B</td>\n",
       "      <td>...</td>\n",
       "      <td>1</td>\n",
       "      <td>4</td>\n",
       "      <td>B</td>\n",
       "      <td>184010.766218</td>\n",
       "      <td>0</td>\n",
       "      <td>1</td>\n",
       "      <td>0</td>\n",
       "      <td>1</td>\n",
       "      <td>0</td>\n",
       "      <td>1</td>\n",
       "    </tr>\n",
       "  </tbody>\n",
       "</table>\n",
       "<p>5 rows × 25 columns</p>\n",
       "</div>"
      ],
      "text/plain": [
       "      DistrictId  Rooms     Square  LifeSquare  KitchenSquare  Floor  \\\n",
       "1003           3      1  40.542284   21.907003            6.0      5   \n",
       "7929          41      3  63.555429   44.365271            8.0      8   \n",
       "6871           6      2  73.612474   44.167485            1.0     15   \n",
       "1018         119      1  32.860029   23.940883            5.0      3   \n",
       "6739          55      1  39.770285   22.063326            8.0     11   \n",
       "\n",
       "      HouseFloor  HouseYear  Ecology_1 Ecology_2  ... Helthcare_2  Shops_1  \\\n",
       "1003           9       1977   0.050900         B  ...           2        3   \n",
       "7929           9       1979   0.000070         B  ...           1       16   \n",
       "6871          17       1977   0.243205         B  ...           0        0   \n",
       "1018           9       1968   0.000995         B  ...           1        5   \n",
       "6739          25       2004   0.041365         B  ...           1        4   \n",
       "\n",
       "      Shops_2          Price  Eco_2_A  Eco_2_B  Eco_3_A Eco_3_B  Sh_2_A  \\\n",
       "1003        B  138357.733272        0        1        0       1       0   \n",
       "7929        B  275489.807669        0        1        0       1       0   \n",
       "6871        B  186743.170384        0        1        0       1       0   \n",
       "1018        B  129339.268164        0        1        0       1       0   \n",
       "6739        B  184010.766218        0        1        0       1       0   \n",
       "\n",
       "      Sh_2_B  \n",
       "1003       1  \n",
       "7929       1  \n",
       "6871       1  \n",
       "1018       1  \n",
       "6739       1  \n",
       "\n",
       "[5 rows x 25 columns]"
      ]
     },
     "execution_count": 43,
     "metadata": {},
     "output_type": "execute_result"
    }
   ],
   "source": [
    "# добавляем в дата фрейм разбивку категориальных признаков\n",
    "df = pd.concat([df, pd.get_dummies(df['Ecology_2'], prefix='Eco_2')], axis = 1)\n",
    "df = pd.concat([df, pd.get_dummies(df['Ecology_3'], prefix='Eco_3')], axis = 1)\n",
    "df = pd.concat([df, pd.get_dummies(df['Shops_2'], prefix='Sh_2')], axis = 1)\n",
    "\n",
    "# проверяем\n",
    "df.sample(5)"
   ]
  },
  {
   "cell_type": "markdown",
   "metadata": {},
   "source": [
    "# Подготовка модели"
   ]
  },
  {
   "cell_type": "markdown",
   "metadata": {
    "id": "EN68pn9orohA"
   },
   "source": [
    "Функция подготовки данных"
   ]
  },
  {
   "cell_type": "code",
   "execution_count": 44,
   "metadata": {
    "executionInfo": {
     "elapsed": 15,
     "status": "ok",
     "timestamp": 1671109514311,
     "user": {
      "displayName": "Yuriy Volkov",
      "userId": "03511939659137495578"
     },
     "user_tz": -180
    },
    "id": "T12jzShDrtKX"
   },
   "outputs": [],
   "source": [
    "def data_prepare (df):\n",
    "  # изменение типов\n",
    "  df['Rooms'] = df['Rooms'].astype('int')\n",
    "  df['HouseFloor'] = df['HouseFloor'].astype('int')\n",
    "  df['Ecology_2'] = df['Ecology_2'].astype('category')\n",
    "  df['Ecology_3'] = df['Ecology_3'].astype('category')\n",
    "  df['Shops_2'] = df['Shops_2'].astype('category')\n",
    "    \n",
    "  # заполняем пропуски LifeSquare значением медианы\n",
    "  #df.loc[df['LifeSquare'].isnull(), 'LifeSquare'] = df['LifeSquare'].median()\n",
    "  df.loc[df['LifeSquare'].isnull(), 'LifeSquare'] = df['Square']*0.6\n",
    "    \n",
    "  # обработка выбросов\n",
    "  # rooms\n",
    "  df.loc[(df['Rooms'] == 0 ) | (df['Rooms'] > 5) , 'Rooms'] = df['Rooms'].median()\n",
    "\n",
    "  # значения Square 0 или больше 150 приводим к медиане\n",
    "  df.loc[(df['Square'] == 0 ) | (df['Square'] > 150) , 'Square'] = df['Square'].median()\n",
    "\n",
    "  # значения LifeSquare 0 или больше 150 приводим к медиане\n",
    "  df.loc[(df['LifeSquare'] == 0 ) | (df['LifeSquare'] > 150) , 'LifeSquare'] = df['LifeSquare'].median()\n",
    "  df.loc[(df['LifeSquare'] > df['Square']), 'LifeSquare'] = df['Square']\n",
    "\n",
    "  # значения KitchenSquare 0 или больше 30 приводим к медиане\n",
    "  df.loc[(df['KitchenSquare'] == 0 ) | (df['KitchenSquare'] > 30) , 'KitchenSquare'] = df['KitchenSquare'].median()\n",
    "    \n",
    "  # значения HouseFloor 0 или больше 60 приводим к медиане или к значению этажа квартиры\n",
    "  median_HouseFloor = df['HouseFloor'].median()\n",
    "  df.loc[(df['HouseFloor'] == 0 ) & (df['Floor'] > median_HouseFloor) , 'HouseFloor'] = df['Floor']\n",
    "  df.loc[(df['HouseFloor'] == 0 ) & (df['Floor'] < median_HouseFloor) , 'HouseFloor'] = median_HouseFloor\n",
    "  df.loc[(df['HouseFloor'] > 60 ) & (df['Floor'] > median_HouseFloor) , 'HouseFloor'] = df['Floor']\n",
    "  df.loc[(df['HouseFloor'] > 60 ) & (df['Floor'] < median_HouseFloor) , 'HouseFloor'] = median_HouseFloor\n",
    "    \n",
    "  # проверяем чтобы значение Floor не превышало HouseFloor\n",
    "  df.loc[(df['Floor'] > df['HouseFloor']), 'Floor']  = df['HouseFloor']\n",
    "\n",
    "  # исправление года\n",
    "  df.loc[df['HouseYear'] > datetime.now().year, 'HouseYear'] = df['HouseYear'].median()\n",
    "\n",
    "\n",
    "  # добавляем в дата фрейм разбивку категориальных признаков\n",
    "  df = pd.concat([df, pd.get_dummies(df['Ecology_2'], prefix='Eco_2')], axis = 1)\n",
    "  df = pd.concat([df, pd.get_dummies(df['Ecology_3'], prefix='Eco_3')], axis = 1)\n",
    "  df = pd.concat([df, pd.get_dummies(df['Shops_2'], prefix='Sh_2')], axis = 1)\n",
    "  \n",
    "  return df"
   ]
  },
  {
   "cell_type": "markdown",
   "metadata": {},
   "source": [
    "Выделение ключевых параметров"
   ]
  },
  {
   "cell_type": "code",
   "execution_count": 45,
   "metadata": {
    "executionInfo": {
     "elapsed": 23,
     "status": "ok",
     "timestamp": 1671109514697,
     "user": {
      "displayName": "Yuriy Volkov",
      "userId": "03511939659137495578"
     },
     "user_tz": -180
    },
    "id": "tHlKEm98iB22"
   },
   "outputs": [],
   "source": [
    "feature_names = ['DistrictId', 'Rooms', 'Square', 'LifeSquare', 'KitchenSquare',\n",
    "                 'Floor', 'HouseFloor', 'HouseYear', 'Ecology_1', 'Social_1',\n",
    "                 'Social_2', 'Social_3', 'Helthcare_2',\n",
    "                 'Shops_1','Eco_2_A', 'Eco_2_B', 'Eco_3_A','Eco_3_B',\n",
    "                 'Sh_2_A', 'Sh_2_B']\n",
    "\n",
    "target = 'Price'"
   ]
  },
  {
   "cell_type": "markdown",
   "metadata": {
    "id": "XK0wAHUtk14F"
   },
   "source": [
    "Функция для запуска модели"
   ]
  },
  {
   "cell_type": "code",
   "execution_count": 46,
   "metadata": {
    "executionInfo": {
     "elapsed": 23,
     "status": "ok",
     "timestamp": 1671109514699,
     "user": {
      "displayName": "Yuriy Volkov",
      "userId": "03511939659137495578"
     },
     "user_tz": -180
    },
    "id": "4gHkkht6k0ru"
   },
   "outputs": [],
   "source": [
    "def start_model (X_train, y_train, X_test, y_test, feats, model):\n",
    "\n",
    "  model.fit(X_train.loc[:, feats], y_train)\n",
    "\n",
    "  y_pred = model.predict(X_test.loc[:, feats])\n",
    "  r2 = r2_score(y_test, y_pred)\n",
    "  print (f'R2_score = {r2}')\n",
    "    \n",
    "  return y_pred"
   ]
  },
  {
   "cell_type": "markdown",
   "metadata": {},
   "source": [
    "# Загрузка данных"
   ]
  },
  {
   "cell_type": "code",
   "execution_count": 47,
   "metadata": {
    "executionInfo": {
     "elapsed": 399,
     "status": "ok",
     "timestamp": 1671109514695,
     "user": {
      "displayName": "Yuriy Volkov",
      "userId": "03511939659137495578"
     },
     "user_tz": -180
    },
    "id": "l2Zu6IsPzrK8"
   },
   "outputs": [],
   "source": [
    "train = pd.read_csv(TRAIN_DATASET_PATH, sep = ',')\n",
    "train = data_prepare(train)"
   ]
  },
  {
   "cell_type": "markdown",
   "metadata": {
    "id": "I3EK8CJwh3W3"
   },
   "source": [
    "Распределение данных для использования в модели"
   ]
  },
  {
   "cell_type": "code",
   "execution_count": 48,
   "metadata": {
    "colab": {
     "base_uri": "https://localhost:8080/"
    },
    "executionInfo": {
     "elapsed": 25,
     "status": "ok",
     "timestamp": 1671109514696,
     "user": {
      "displayName": "Yuriy Volkov",
      "userId": "03511939659137495578"
     },
     "user_tz": -180
    },
    "id": "3LIR-hSFiGwS",
    "outputId": "35ca18b5-25e8-4c2a-c551-098f48cd1cd2"
   },
   "outputs": [],
   "source": [
    "# train.columns"
   ]
  },
  {
   "cell_type": "code",
   "execution_count": 49,
   "metadata": {
    "colab": {
     "base_uri": "https://localhost:8080/"
    },
    "executionInfo": {
     "elapsed": 24,
     "status": "ok",
     "timestamp": 1671109514696,
     "user": {
      "displayName": "Yuriy Volkov",
      "userId": "03511939659137495578"
     },
     "user_tz": -180
    },
    "id": "k4mgmCnXvCcy",
    "outputId": "38b7f202-9817-4157-b8e2-6a776d0799e5"
   },
   "outputs": [],
   "source": [
    "# test.columns"
   ]
  },
  {
   "cell_type": "code",
   "execution_count": 50,
   "metadata": {
    "colab": {
     "base_uri": "https://localhost:8080/",
     "height": 270
    },
    "executionInfo": {
     "elapsed": 23,
     "status": "ok",
     "timestamp": 1671109514698,
     "user": {
      "displayName": "Yuriy Volkov",
      "userId": "03511939659137495578"
     },
     "user_tz": -180
    },
    "id": "gwkjVk_vvJ4o",
    "outputId": "9c4a0959-6847-47ca-ede4-703a0f59cc14"
   },
   "outputs": [
    {
     "data": {
      "text/html": [
       "<div>\n",
       "<style scoped>\n",
       "    .dataframe tbody tr th:only-of-type {\n",
       "        vertical-align: middle;\n",
       "    }\n",
       "\n",
       "    .dataframe tbody tr th {\n",
       "        vertical-align: top;\n",
       "    }\n",
       "\n",
       "    .dataframe thead th {\n",
       "        text-align: right;\n",
       "    }\n",
       "</style>\n",
       "<table border=\"1\" class=\"dataframe\">\n",
       "  <thead>\n",
       "    <tr style=\"text-align: right;\">\n",
       "      <th></th>\n",
       "      <th>DistrictId</th>\n",
       "      <th>Rooms</th>\n",
       "      <th>Square</th>\n",
       "      <th>LifeSquare</th>\n",
       "      <th>KitchenSquare</th>\n",
       "      <th>Floor</th>\n",
       "      <th>HouseFloor</th>\n",
       "      <th>HouseYear</th>\n",
       "      <th>Ecology_1</th>\n",
       "      <th>Social_1</th>\n",
       "      <th>Social_2</th>\n",
       "      <th>Social_3</th>\n",
       "      <th>Helthcare_2</th>\n",
       "      <th>Shops_1</th>\n",
       "      <th>Eco_2_A</th>\n",
       "      <th>Eco_2_B</th>\n",
       "      <th>Eco_3_A</th>\n",
       "      <th>Eco_3_B</th>\n",
       "      <th>Sh_2_A</th>\n",
       "      <th>Sh_2_B</th>\n",
       "    </tr>\n",
       "  </thead>\n",
       "  <tbody>\n",
       "    <tr>\n",
       "      <th>3904</th>\n",
       "      <td>62</td>\n",
       "      <td>1</td>\n",
       "      <td>56.871239</td>\n",
       "      <td>34.122744</td>\n",
       "      <td>6.0</td>\n",
       "      <td>4</td>\n",
       "      <td>13</td>\n",
       "      <td>1977</td>\n",
       "      <td>0.072158</td>\n",
       "      <td>2</td>\n",
       "      <td>629</td>\n",
       "      <td>1</td>\n",
       "      <td>0</td>\n",
       "      <td>0</td>\n",
       "      <td>0</td>\n",
       "      <td>1</td>\n",
       "      <td>0</td>\n",
       "      <td>1</td>\n",
       "      <td>1</td>\n",
       "      <td>0</td>\n",
       "    </tr>\n",
       "    <tr>\n",
       "      <th>5163</th>\n",
       "      <td>8</td>\n",
       "      <td>3</td>\n",
       "      <td>84.955385</td>\n",
       "      <td>45.393142</td>\n",
       "      <td>10.0</td>\n",
       "      <td>14</td>\n",
       "      <td>14</td>\n",
       "      <td>2008</td>\n",
       "      <td>0.437885</td>\n",
       "      <td>23</td>\n",
       "      <td>5735</td>\n",
       "      <td>3</td>\n",
       "      <td>0</td>\n",
       "      <td>5</td>\n",
       "      <td>0</td>\n",
       "      <td>1</td>\n",
       "      <td>0</td>\n",
       "      <td>1</td>\n",
       "      <td>0</td>\n",
       "      <td>1</td>\n",
       "    </tr>\n",
       "    <tr>\n",
       "      <th>378</th>\n",
       "      <td>1</td>\n",
       "      <td>1</td>\n",
       "      <td>37.885188</td>\n",
       "      <td>37.885188</td>\n",
       "      <td>10.0</td>\n",
       "      <td>12</td>\n",
       "      <td>17</td>\n",
       "      <td>1977</td>\n",
       "      <td>0.007122</td>\n",
       "      <td>1</td>\n",
       "      <td>264</td>\n",
       "      <td>0</td>\n",
       "      <td>0</td>\n",
       "      <td>1</td>\n",
       "      <td>0</td>\n",
       "      <td>1</td>\n",
       "      <td>0</td>\n",
       "      <td>1</td>\n",
       "      <td>0</td>\n",
       "      <td>1</td>\n",
       "    </tr>\n",
       "    <tr>\n",
       "      <th>3568</th>\n",
       "      <td>38</td>\n",
       "      <td>1</td>\n",
       "      <td>32.272265</td>\n",
       "      <td>22.548493</td>\n",
       "      <td>5.0</td>\n",
       "      <td>5</td>\n",
       "      <td>9</td>\n",
       "      <td>1964</td>\n",
       "      <td>0.060753</td>\n",
       "      <td>15</td>\n",
       "      <td>2787</td>\n",
       "      <td>2</td>\n",
       "      <td>0</td>\n",
       "      <td>7</td>\n",
       "      <td>0</td>\n",
       "      <td>1</td>\n",
       "      <td>0</td>\n",
       "      <td>1</td>\n",
       "      <td>0</td>\n",
       "      <td>1</td>\n",
       "    </tr>\n",
       "    <tr>\n",
       "      <th>3356</th>\n",
       "      <td>27</td>\n",
       "      <td>1</td>\n",
       "      <td>52.619125</td>\n",
       "      <td>51.083320</td>\n",
       "      <td>1.0</td>\n",
       "      <td>6</td>\n",
       "      <td>24</td>\n",
       "      <td>2014</td>\n",
       "      <td>0.072158</td>\n",
       "      <td>2</td>\n",
       "      <td>629</td>\n",
       "      <td>1</td>\n",
       "      <td>0</td>\n",
       "      <td>0</td>\n",
       "      <td>0</td>\n",
       "      <td>1</td>\n",
       "      <td>0</td>\n",
       "      <td>1</td>\n",
       "      <td>1</td>\n",
       "      <td>0</td>\n",
       "    </tr>\n",
       "  </tbody>\n",
       "</table>\n",
       "</div>"
      ],
      "text/plain": [
       "      DistrictId  Rooms     Square  LifeSquare  KitchenSquare  Floor  \\\n",
       "3904          62      1  56.871239   34.122744            6.0      4   \n",
       "5163           8      3  84.955385   45.393142           10.0     14   \n",
       "378            1      1  37.885188   37.885188           10.0     12   \n",
       "3568          38      1  32.272265   22.548493            5.0      5   \n",
       "3356          27      1  52.619125   51.083320            1.0      6   \n",
       "\n",
       "      HouseFloor  HouseYear  Ecology_1  Social_1  Social_2  Social_3  \\\n",
       "3904          13       1977   0.072158         2       629         1   \n",
       "5163          14       2008   0.437885        23      5735         3   \n",
       "378           17       1977   0.007122         1       264         0   \n",
       "3568           9       1964   0.060753        15      2787         2   \n",
       "3356          24       2014   0.072158         2       629         1   \n",
       "\n",
       "      Helthcare_2  Shops_1  Eco_2_A  Eco_2_B  Eco_3_A  Eco_3_B  Sh_2_A  Sh_2_B  \n",
       "3904            0        0        0        1        0        1       1       0  \n",
       "5163            0        5        0        1        0        1       0       1  \n",
       "378             0        1        0        1        0        1       0       1  \n",
       "3568            0        7        0        1        0        1       0       1  \n",
       "3356            0        0        0        1        0        1       1       0  "
      ]
     },
     "execution_count": 50,
     "metadata": {},
     "output_type": "execute_result"
    }
   ],
   "source": [
    "# Разбивка датасета\n",
    "X_train, X_test, y_train, y_test = train_test_split(train[feature_names], \n",
    "                                                    train[target], test_size=0.3, random_state=42)\n",
    "\n",
    "X_train.sample(5)"
   ]
  },
  {
   "cell_type": "code",
   "execution_count": 51,
   "metadata": {
    "executionInfo": {
     "elapsed": 23,
     "status": "ok",
     "timestamp": 1671109514698,
     "user": {
      "displayName": "Yuriy Volkov",
      "userId": "03511939659137495578"
     },
     "user_tz": -180
    },
    "id": "W5GwDk-GyzH5"
   },
   "outputs": [],
   "source": [
    "# cтандартизация наборов данны\n",
    "scaler = StandardScaler()\n",
    "\n",
    "X_train_scaled = scaler.fit_transform(X_train)\n",
    "X_train_scaled = pd.DataFrame(X_train_scaled, columns=feature_names)\n",
    "\n",
    "X_test_scaled = scaler.fit_transform(X_test)\n",
    "X_test_scaled = pd.DataFrame(X_test_scaled, columns=feature_names)"
   ]
  },
  {
   "cell_type": "markdown",
   "metadata": {},
   "source": [
    "# Запуск моделей"
   ]
  },
  {
   "cell_type": "markdown",
   "metadata": {
    "id": "hcj81OVSvv5P"
   },
   "source": [
    "**Модель линейной регрессии**"
   ]
  },
  {
   "cell_type": "code",
   "execution_count": 52,
   "metadata": {
    "colab": {
     "base_uri": "https://localhost:8080/"
    },
    "executionInfo": {
     "elapsed": 23,
     "status": "ok",
     "timestamp": 1671109514699,
     "user": {
      "displayName": "Yuriy Volkov",
      "userId": "03511939659137495578"
     },
     "user_tz": -180
    },
    "id": "fx1NYxhGnhVz",
    "outputId": "e34349e0-35e9-42d9-beb8-26c126ff96e3"
   },
   "outputs": [
    {
     "name": "stdout",
     "output_type": "stream",
     "text": [
      "R2_score = 0.5191996496742175\n"
     ]
    },
    {
     "data": {
      "text/plain": [
       "array([176719.22929288, 279865.25783309, 244060.94721999, ...,\n",
       "       207480.56861032, 124280.34814266, 259561.47549394])"
      ]
     },
     "execution_count": 52,
     "metadata": {},
     "output_type": "execute_result"
    }
   ],
   "source": [
    "model_1 = LinearRegression()\n",
    "start_model (X_train, y_train, X_test, y_test, feature_names, model_1)"
   ]
  },
  {
   "cell_type": "code",
   "execution_count": 53,
   "metadata": {
    "colab": {
     "base_uri": "https://localhost:8080/"
    },
    "executionInfo": {
     "elapsed": 18,
     "status": "ok",
     "timestamp": 1671109514700,
     "user": {
      "displayName": "Yuriy Volkov",
      "userId": "03511939659137495578"
     },
     "user_tz": -180
    },
    "id": "fTsSMS6izXiM",
    "outputId": "1c62fe6c-60d7-45a9-9814-d2cf29e5106e"
   },
   "outputs": [
    {
     "name": "stdout",
     "output_type": "stream",
     "text": [
      "R2_score = 0.5190984778342504\n"
     ]
    },
    {
     "data": {
      "text/plain": [
       "array([177441.59528682, 280972.48361304, 244500.96631909, ...,\n",
       "       208589.99829271, 125282.29650125, 260515.73307733])"
      ]
     },
     "execution_count": 53,
     "metadata": {},
     "output_type": "execute_result"
    }
   ],
   "source": [
    "start_model (X_train_scaled, y_train, X_test_scaled, y_test, feature_names, model_1)"
   ]
  },
  {
   "cell_type": "markdown",
   "metadata": {
    "id": "z2IEcNG0wmcW"
   },
   "source": [
    "**Модель Lasso**"
   ]
  },
  {
   "cell_type": "code",
   "execution_count": 54,
   "metadata": {
    "colab": {
     "base_uri": "https://localhost:8080/"
    },
    "executionInfo": {
     "elapsed": 17,
     "status": "ok",
     "timestamp": 1671109514700,
     "user": {
      "displayName": "Yuriy Volkov",
      "userId": "03511939659137495578"
     },
     "user_tz": -180
    },
    "id": "Cl_iZRRExGaK",
    "outputId": "cb924e69-8721-4624-cb5b-0887e2ec7e86"
   },
   "outputs": [
    {
     "name": "stdout",
     "output_type": "stream",
     "text": [
      "R2_score = 0.5191998358641765\n"
     ]
    },
    {
     "data": {
      "text/plain": [
       "array([176719.0146462 , 279865.68101728, 244061.16598775, ...,\n",
       "       207480.49291722, 124281.22939178, 259561.47785508])"
      ]
     },
     "execution_count": 54,
     "metadata": {},
     "output_type": "execute_result"
    }
   ],
   "source": [
    "model_2 = Lasso(alpha=0.03)\n",
    "start_model (X_train, y_train, X_test, y_test, feature_names, model_2)"
   ]
  },
  {
   "cell_type": "code",
   "execution_count": 55,
   "metadata": {
    "colab": {
     "base_uri": "https://localhost:8080/"
    },
    "executionInfo": {
     "elapsed": 15,
     "status": "ok",
     "timestamp": 1671109514700,
     "user": {
      "displayName": "Yuriy Volkov",
      "userId": "03511939659137495578"
     },
     "user_tz": -180
    },
    "id": "78nVTJzyznqY",
    "outputId": "4546676c-2c6c-4a32-f77c-0d019af84426"
   },
   "outputs": [
    {
     "name": "stdout",
     "output_type": "stream",
     "text": [
      "R2_score = 0.5190985636010277\n"
     ]
    },
    {
     "data": {
      "text/plain": [
       "array([177441.66479729, 280972.64250029, 244500.52888647, ...,\n",
       "       208590.05590005, 125282.64055463, 260515.6473784 ])"
      ]
     },
     "execution_count": 55,
     "metadata": {},
     "output_type": "execute_result"
    }
   ],
   "source": [
    "start_model (X_train_scaled, y_train, X_test_scaled, y_test, feature_names, model_2)"
   ]
  },
  {
   "cell_type": "markdown",
   "metadata": {},
   "source": [
    "**Модель Random Forest Regressor**"
   ]
  },
  {
   "cell_type": "code",
   "execution_count": 56,
   "metadata": {},
   "outputs": [
    {
     "name": "stdout",
     "output_type": "stream",
     "text": [
      "R2_score = 0.7213837693746254\n"
     ]
    },
    {
     "data": {
      "text/plain": [
       "array([186463.67563925, 309207.96779103, 209648.83367153, ...,\n",
       "       251081.80839568, 122929.78491778, 254163.20300133])"
      ]
     },
     "execution_count": 56,
     "metadata": {},
     "output_type": "execute_result"
    }
   ],
   "source": [
    "model_3 = RFR(n_estimators= 500, min_samples_leaf=1, n_jobs=-1, random_state=42, max_features= 3)\n",
    "start_model (X_train, y_train, X_test, y_test, feature_names, model_3)"
   ]
  },
  {
   "cell_type": "code",
   "execution_count": 57,
   "metadata": {},
   "outputs": [
    {
     "name": "stdout",
     "output_type": "stream",
     "text": [
      "R2_score = 0.7138367399909762\n"
     ]
    },
    {
     "data": {
      "text/plain": [
       "array([185760.99138595, 314498.92060852, 209277.05415458, ...,\n",
       "       253702.60135287, 126553.61918875, 256507.5957876 ])"
      ]
     },
     "execution_count": 57,
     "metadata": {},
     "output_type": "execute_result"
    }
   ],
   "source": [
    "start_model (X_train_scaled, y_train, X_test_scaled, y_test, feature_names, model_3)"
   ]
  },
  {
   "cell_type": "markdown",
   "metadata": {},
   "source": [
    "**Лучшая метрика у модели Random Forest Regressor без стандартизации данных**"
   ]
  },
  {
   "cell_type": "markdown",
   "metadata": {},
   "source": [
    "# Работа с файлом test"
   ]
  },
  {
   "cell_type": "code",
   "execution_count": 58,
   "metadata": {},
   "outputs": [],
   "source": [
    "# Загружаем данные тестового файла\n",
    "test = pd.read_csv(TEST_DATASET_PATH, sep = ',')\n",
    "test = data_prepare(test)\n"
   ]
  },
  {
   "cell_type": "code",
   "execution_count": 59,
   "metadata": {},
   "outputs": [],
   "source": [
    "# Запускаем модель с тестовым файлом\n",
    "test['Price'] = model_3.predict(test.loc[:, feature_names])"
   ]
  },
  {
   "cell_type": "code",
   "execution_count": 60,
   "metadata": {},
   "outputs": [
    {
     "data": {
      "text/html": [
       "<div>\n",
       "<style scoped>\n",
       "    .dataframe tbody tr th:only-of-type {\n",
       "        vertical-align: middle;\n",
       "    }\n",
       "\n",
       "    .dataframe tbody tr th {\n",
       "        vertical-align: top;\n",
       "    }\n",
       "\n",
       "    .dataframe thead th {\n",
       "        text-align: right;\n",
       "    }\n",
       "</style>\n",
       "<table border=\"1\" class=\"dataframe\">\n",
       "  <thead>\n",
       "    <tr style=\"text-align: right;\">\n",
       "      <th></th>\n",
       "      <th>count</th>\n",
       "      <th>unique</th>\n",
       "      <th>top</th>\n",
       "      <th>freq</th>\n",
       "      <th>mean</th>\n",
       "      <th>std</th>\n",
       "      <th>min</th>\n",
       "      <th>25%</th>\n",
       "      <th>50%</th>\n",
       "      <th>75%</th>\n",
       "      <th>max</th>\n",
       "    </tr>\n",
       "  </thead>\n",
       "  <tbody>\n",
       "    <tr>\n",
       "      <th>Id</th>\n",
       "      <td>5000.0</td>\n",
       "      <td>NaN</td>\n",
       "      <td>NaN</td>\n",
       "      <td>NaN</td>\n",
       "      <td>8412.5954</td>\n",
       "      <td>4832.674037</td>\n",
       "      <td>1.0</td>\n",
       "      <td>4221.75</td>\n",
       "      <td>8320.5</td>\n",
       "      <td>12598.25</td>\n",
       "      <td>16795.0</td>\n",
       "    </tr>\n",
       "    <tr>\n",
       "      <th>DistrictId</th>\n",
       "      <td>5000.0</td>\n",
       "      <td>NaN</td>\n",
       "      <td>NaN</td>\n",
       "      <td>NaN</td>\n",
       "      <td>51.2792</td>\n",
       "      <td>44.179466</td>\n",
       "      <td>0.0</td>\n",
       "      <td>21.0</td>\n",
       "      <td>37.0</td>\n",
       "      <td>77.0</td>\n",
       "      <td>212.0</td>\n",
       "    </tr>\n",
       "    <tr>\n",
       "      <th>Rooms</th>\n",
       "      <td>5000.0</td>\n",
       "      <td>NaN</td>\n",
       "      <td>NaN</td>\n",
       "      <td>NaN</td>\n",
       "      <td>1.9062</td>\n",
       "      <td>0.805935</td>\n",
       "      <td>1.0</td>\n",
       "      <td>1.0</td>\n",
       "      <td>2.0</td>\n",
       "      <td>2.0</td>\n",
       "      <td>5.0</td>\n",
       "    </tr>\n",
       "    <tr>\n",
       "      <th>Square</th>\n",
       "      <td>5000.0</td>\n",
       "      <td>NaN</td>\n",
       "      <td>NaN</td>\n",
       "      <td>NaN</td>\n",
       "      <td>56.240424</td>\n",
       "      <td>18.377227</td>\n",
       "      <td>1.378543</td>\n",
       "      <td>41.906231</td>\n",
       "      <td>52.919578</td>\n",
       "      <td>66.233526</td>\n",
       "      <td>148.783492</td>\n",
       "    </tr>\n",
       "    <tr>\n",
       "      <th>LifeSquare</th>\n",
       "      <td>5000.0</td>\n",
       "      <td>NaN</td>\n",
       "      <td>NaN</td>\n",
       "      <td>NaN</td>\n",
       "      <td>35.946352</td>\n",
       "      <td>15.868496</td>\n",
       "      <td>0.33349</td>\n",
       "      <td>24.056475</td>\n",
       "      <td>33.30887</td>\n",
       "      <td>44.687708</td>\n",
       "      <td>136.92109</td>\n",
       "    </tr>\n",
       "    <tr>\n",
       "      <th>KitchenSquare</th>\n",
       "      <td>5000.0</td>\n",
       "      <td>NaN</td>\n",
       "      <td>NaN</td>\n",
       "      <td>NaN</td>\n",
       "      <td>6.1076</td>\n",
       "      <td>3.518934</td>\n",
       "      <td>1.0</td>\n",
       "      <td>5.0</td>\n",
       "      <td>6.0</td>\n",
       "      <td>9.0</td>\n",
       "      <td>30.0</td>\n",
       "    </tr>\n",
       "    <tr>\n",
       "      <th>Floor</th>\n",
       "      <td>5000.0</td>\n",
       "      <td>NaN</td>\n",
       "      <td>NaN</td>\n",
       "      <td>NaN</td>\n",
       "      <td>8.0716</td>\n",
       "      <td>5.38727</td>\n",
       "      <td>0.0</td>\n",
       "      <td>4.0</td>\n",
       "      <td>7.0</td>\n",
       "      <td>11.0</td>\n",
       "      <td>46.0</td>\n",
       "    </tr>\n",
       "    <tr>\n",
       "      <th>HouseFloor</th>\n",
       "      <td>5000.0</td>\n",
       "      <td>NaN</td>\n",
       "      <td>NaN</td>\n",
       "      <td>NaN</td>\n",
       "      <td>12.9246</td>\n",
       "      <td>6.381744</td>\n",
       "      <td>0.0</td>\n",
       "      <td>9.0</td>\n",
       "      <td>13.0</td>\n",
       "      <td>17.0</td>\n",
       "      <td>48.0</td>\n",
       "    </tr>\n",
       "    <tr>\n",
       "      <th>HouseYear</th>\n",
       "      <td>5000.0</td>\n",
       "      <td>NaN</td>\n",
       "      <td>NaN</td>\n",
       "      <td>NaN</td>\n",
       "      <td>1984.3926</td>\n",
       "      <td>18.573149</td>\n",
       "      <td>1908.0</td>\n",
       "      <td>1973.0</td>\n",
       "      <td>1977.0</td>\n",
       "      <td>2000.0</td>\n",
       "      <td>2020.0</td>\n",
       "    </tr>\n",
       "    <tr>\n",
       "      <th>Ecology_1</th>\n",
       "      <td>5000.0</td>\n",
       "      <td>NaN</td>\n",
       "      <td>NaN</td>\n",
       "      <td>NaN</td>\n",
       "      <td>0.119874</td>\n",
       "      <td>0.12007</td>\n",
       "      <td>0.0</td>\n",
       "      <td>0.019509</td>\n",
       "      <td>0.072158</td>\n",
       "      <td>0.195781</td>\n",
       "      <td>0.521867</td>\n",
       "    </tr>\n",
       "    <tr>\n",
       "      <th>Ecology_2</th>\n",
       "      <td>5000</td>\n",
       "      <td>2</td>\n",
       "      <td>B</td>\n",
       "      <td>4952</td>\n",
       "      <td>NaN</td>\n",
       "      <td>NaN</td>\n",
       "      <td>NaN</td>\n",
       "      <td>NaN</td>\n",
       "      <td>NaN</td>\n",
       "      <td>NaN</td>\n",
       "      <td>NaN</td>\n",
       "    </tr>\n",
       "    <tr>\n",
       "      <th>Ecology_3</th>\n",
       "      <td>5000</td>\n",
       "      <td>2</td>\n",
       "      <td>B</td>\n",
       "      <td>4851</td>\n",
       "      <td>NaN</td>\n",
       "      <td>NaN</td>\n",
       "      <td>NaN</td>\n",
       "      <td>NaN</td>\n",
       "      <td>NaN</td>\n",
       "      <td>NaN</td>\n",
       "      <td>NaN</td>\n",
       "    </tr>\n",
       "    <tr>\n",
       "      <th>Social_1</th>\n",
       "      <td>5000.0</td>\n",
       "      <td>NaN</td>\n",
       "      <td>NaN</td>\n",
       "      <td>NaN</td>\n",
       "      <td>24.9338</td>\n",
       "      <td>17.532202</td>\n",
       "      <td>0.0</td>\n",
       "      <td>6.0</td>\n",
       "      <td>25.0</td>\n",
       "      <td>36.0</td>\n",
       "      <td>74.0</td>\n",
       "    </tr>\n",
       "    <tr>\n",
       "      <th>Social_2</th>\n",
       "      <td>5000.0</td>\n",
       "      <td>NaN</td>\n",
       "      <td>NaN</td>\n",
       "      <td>NaN</td>\n",
       "      <td>5406.9</td>\n",
       "      <td>4026.614773</td>\n",
       "      <td>168.0</td>\n",
       "      <td>1564.0</td>\n",
       "      <td>5285.0</td>\n",
       "      <td>7287.0</td>\n",
       "      <td>19083.0</td>\n",
       "    </tr>\n",
       "    <tr>\n",
       "      <th>Social_3</th>\n",
       "      <td>5000.0</td>\n",
       "      <td>NaN</td>\n",
       "      <td>NaN</td>\n",
       "      <td>NaN</td>\n",
       "      <td>8.2626</td>\n",
       "      <td>23.863762</td>\n",
       "      <td>0.0</td>\n",
       "      <td>0.0</td>\n",
       "      <td>2.0</td>\n",
       "      <td>5.0</td>\n",
       "      <td>141.0</td>\n",
       "    </tr>\n",
       "    <tr>\n",
       "      <th>Healthcare_1</th>\n",
       "      <td>2623.0</td>\n",
       "      <td>NaN</td>\n",
       "      <td>NaN</td>\n",
       "      <td>NaN</td>\n",
       "      <td>1146.657263</td>\n",
       "      <td>1044.744231</td>\n",
       "      <td>0.0</td>\n",
       "      <td>325.0</td>\n",
       "      <td>900.0</td>\n",
       "      <td>1548.0</td>\n",
       "      <td>4849.0</td>\n",
       "    </tr>\n",
       "    <tr>\n",
       "      <th>Helthcare_2</th>\n",
       "      <td>5000.0</td>\n",
       "      <td>NaN</td>\n",
       "      <td>NaN</td>\n",
       "      <td>NaN</td>\n",
       "      <td>1.3194</td>\n",
       "      <td>1.47994</td>\n",
       "      <td>0.0</td>\n",
       "      <td>0.0</td>\n",
       "      <td>1.0</td>\n",
       "      <td>2.0</td>\n",
       "      <td>6.0</td>\n",
       "    </tr>\n",
       "    <tr>\n",
       "      <th>Shops_1</th>\n",
       "      <td>5000.0</td>\n",
       "      <td>NaN</td>\n",
       "      <td>NaN</td>\n",
       "      <td>NaN</td>\n",
       "      <td>4.2428</td>\n",
       "      <td>4.777365</td>\n",
       "      <td>0.0</td>\n",
       "      <td>1.0</td>\n",
       "      <td>3.0</td>\n",
       "      <td>6.0</td>\n",
       "      <td>23.0</td>\n",
       "    </tr>\n",
       "    <tr>\n",
       "      <th>Shops_2</th>\n",
       "      <td>5000</td>\n",
       "      <td>2</td>\n",
       "      <td>B</td>\n",
       "      <td>4588</td>\n",
       "      <td>NaN</td>\n",
       "      <td>NaN</td>\n",
       "      <td>NaN</td>\n",
       "      <td>NaN</td>\n",
       "      <td>NaN</td>\n",
       "      <td>NaN</td>\n",
       "      <td>NaN</td>\n",
       "    </tr>\n",
       "    <tr>\n",
       "      <th>Eco_2_A</th>\n",
       "      <td>5000.0</td>\n",
       "      <td>NaN</td>\n",
       "      <td>NaN</td>\n",
       "      <td>NaN</td>\n",
       "      <td>0.0096</td>\n",
       "      <td>0.097518</td>\n",
       "      <td>0.0</td>\n",
       "      <td>0.0</td>\n",
       "      <td>0.0</td>\n",
       "      <td>0.0</td>\n",
       "      <td>1.0</td>\n",
       "    </tr>\n",
       "    <tr>\n",
       "      <th>Eco_2_B</th>\n",
       "      <td>5000.0</td>\n",
       "      <td>NaN</td>\n",
       "      <td>NaN</td>\n",
       "      <td>NaN</td>\n",
       "      <td>0.9904</td>\n",
       "      <td>0.097518</td>\n",
       "      <td>0.0</td>\n",
       "      <td>1.0</td>\n",
       "      <td>1.0</td>\n",
       "      <td>1.0</td>\n",
       "      <td>1.0</td>\n",
       "    </tr>\n",
       "    <tr>\n",
       "      <th>Eco_3_A</th>\n",
       "      <td>5000.0</td>\n",
       "      <td>NaN</td>\n",
       "      <td>NaN</td>\n",
       "      <td>NaN</td>\n",
       "      <td>0.0298</td>\n",
       "      <td>0.170052</td>\n",
       "      <td>0.0</td>\n",
       "      <td>0.0</td>\n",
       "      <td>0.0</td>\n",
       "      <td>0.0</td>\n",
       "      <td>1.0</td>\n",
       "    </tr>\n",
       "    <tr>\n",
       "      <th>Eco_3_B</th>\n",
       "      <td>5000.0</td>\n",
       "      <td>NaN</td>\n",
       "      <td>NaN</td>\n",
       "      <td>NaN</td>\n",
       "      <td>0.9702</td>\n",
       "      <td>0.170052</td>\n",
       "      <td>0.0</td>\n",
       "      <td>1.0</td>\n",
       "      <td>1.0</td>\n",
       "      <td>1.0</td>\n",
       "      <td>1.0</td>\n",
       "    </tr>\n",
       "    <tr>\n",
       "      <th>Sh_2_A</th>\n",
       "      <td>5000.0</td>\n",
       "      <td>NaN</td>\n",
       "      <td>NaN</td>\n",
       "      <td>NaN</td>\n",
       "      <td>0.0824</td>\n",
       "      <td>0.275001</td>\n",
       "      <td>0.0</td>\n",
       "      <td>0.0</td>\n",
       "      <td>0.0</td>\n",
       "      <td>0.0</td>\n",
       "      <td>1.0</td>\n",
       "    </tr>\n",
       "    <tr>\n",
       "      <th>Sh_2_B</th>\n",
       "      <td>5000.0</td>\n",
       "      <td>NaN</td>\n",
       "      <td>NaN</td>\n",
       "      <td>NaN</td>\n",
       "      <td>0.9176</td>\n",
       "      <td>0.275001</td>\n",
       "      <td>0.0</td>\n",
       "      <td>1.0</td>\n",
       "      <td>1.0</td>\n",
       "      <td>1.0</td>\n",
       "      <td>1.0</td>\n",
       "    </tr>\n",
       "    <tr>\n",
       "      <th>Price</th>\n",
       "      <td>5000.0</td>\n",
       "      <td>NaN</td>\n",
       "      <td>NaN</td>\n",
       "      <td>NaN</td>\n",
       "      <td>400160.204867</td>\n",
       "      <td>6821.515738</td>\n",
       "      <td>367873.268891</td>\n",
       "      <td>397061.699546</td>\n",
       "      <td>401557.486509</td>\n",
       "      <td>404522.450576</td>\n",
       "      <td>419432.904313</td>\n",
       "    </tr>\n",
       "  </tbody>\n",
       "</table>\n",
       "</div>"
      ],
      "text/plain": [
       "                count unique  top  freq           mean          std  \\\n",
       "Id             5000.0    NaN  NaN   NaN      8412.5954  4832.674037   \n",
       "DistrictId     5000.0    NaN  NaN   NaN        51.2792    44.179466   \n",
       "Rooms          5000.0    NaN  NaN   NaN         1.9062     0.805935   \n",
       "Square         5000.0    NaN  NaN   NaN      56.240424    18.377227   \n",
       "LifeSquare     5000.0    NaN  NaN   NaN      35.946352    15.868496   \n",
       "KitchenSquare  5000.0    NaN  NaN   NaN         6.1076     3.518934   \n",
       "Floor          5000.0    NaN  NaN   NaN         8.0716      5.38727   \n",
       "HouseFloor     5000.0    NaN  NaN   NaN        12.9246     6.381744   \n",
       "HouseYear      5000.0    NaN  NaN   NaN      1984.3926    18.573149   \n",
       "Ecology_1      5000.0    NaN  NaN   NaN       0.119874      0.12007   \n",
       "Ecology_2        5000      2    B  4952            NaN          NaN   \n",
       "Ecology_3        5000      2    B  4851            NaN          NaN   \n",
       "Social_1       5000.0    NaN  NaN   NaN        24.9338    17.532202   \n",
       "Social_2       5000.0    NaN  NaN   NaN         5406.9  4026.614773   \n",
       "Social_3       5000.0    NaN  NaN   NaN         8.2626    23.863762   \n",
       "Healthcare_1   2623.0    NaN  NaN   NaN    1146.657263  1044.744231   \n",
       "Helthcare_2    5000.0    NaN  NaN   NaN         1.3194      1.47994   \n",
       "Shops_1        5000.0    NaN  NaN   NaN         4.2428     4.777365   \n",
       "Shops_2          5000      2    B  4588            NaN          NaN   \n",
       "Eco_2_A        5000.0    NaN  NaN   NaN         0.0096     0.097518   \n",
       "Eco_2_B        5000.0    NaN  NaN   NaN         0.9904     0.097518   \n",
       "Eco_3_A        5000.0    NaN  NaN   NaN         0.0298     0.170052   \n",
       "Eco_3_B        5000.0    NaN  NaN   NaN         0.9702     0.170052   \n",
       "Sh_2_A         5000.0    NaN  NaN   NaN         0.0824     0.275001   \n",
       "Sh_2_B         5000.0    NaN  NaN   NaN         0.9176     0.275001   \n",
       "Price          5000.0    NaN  NaN   NaN  400160.204867  6821.515738   \n",
       "\n",
       "                         min            25%            50%            75%  \\\n",
       "Id                       1.0        4221.75         8320.5       12598.25   \n",
       "DistrictId               0.0           21.0           37.0           77.0   \n",
       "Rooms                    1.0            1.0            2.0            2.0   \n",
       "Square              1.378543      41.906231      52.919578      66.233526   \n",
       "LifeSquare           0.33349      24.056475       33.30887      44.687708   \n",
       "KitchenSquare            1.0            5.0            6.0            9.0   \n",
       "Floor                    0.0            4.0            7.0           11.0   \n",
       "HouseFloor               0.0            9.0           13.0           17.0   \n",
       "HouseYear             1908.0         1973.0         1977.0         2000.0   \n",
       "Ecology_1                0.0       0.019509       0.072158       0.195781   \n",
       "Ecology_2                NaN            NaN            NaN            NaN   \n",
       "Ecology_3                NaN            NaN            NaN            NaN   \n",
       "Social_1                 0.0            6.0           25.0           36.0   \n",
       "Social_2               168.0         1564.0         5285.0         7287.0   \n",
       "Social_3                 0.0            0.0            2.0            5.0   \n",
       "Healthcare_1             0.0          325.0          900.0         1548.0   \n",
       "Helthcare_2              0.0            0.0            1.0            2.0   \n",
       "Shops_1                  0.0            1.0            3.0            6.0   \n",
       "Shops_2                  NaN            NaN            NaN            NaN   \n",
       "Eco_2_A                  0.0            0.0            0.0            0.0   \n",
       "Eco_2_B                  0.0            1.0            1.0            1.0   \n",
       "Eco_3_A                  0.0            0.0            0.0            0.0   \n",
       "Eco_3_B                  0.0            1.0            1.0            1.0   \n",
       "Sh_2_A                   0.0            0.0            0.0            0.0   \n",
       "Sh_2_B                   0.0            1.0            1.0            1.0   \n",
       "Price          367873.268891  397061.699546  401557.486509  404522.450576   \n",
       "\n",
       "                         max  \n",
       "Id                   16795.0  \n",
       "DistrictId             212.0  \n",
       "Rooms                    5.0  \n",
       "Square            148.783492  \n",
       "LifeSquare         136.92109  \n",
       "KitchenSquare           30.0  \n",
       "Floor                   46.0  \n",
       "HouseFloor              48.0  \n",
       "HouseYear             2020.0  \n",
       "Ecology_1           0.521867  \n",
       "Ecology_2                NaN  \n",
       "Ecology_3                NaN  \n",
       "Social_1                74.0  \n",
       "Social_2             19083.0  \n",
       "Social_3               141.0  \n",
       "Healthcare_1          4849.0  \n",
       "Helthcare_2              6.0  \n",
       "Shops_1                 23.0  \n",
       "Shops_2                  NaN  \n",
       "Eco_2_A                  1.0  \n",
       "Eco_2_B                  1.0  \n",
       "Eco_3_A                  1.0  \n",
       "Eco_3_B                  1.0  \n",
       "Sh_2_A                   1.0  \n",
       "Sh_2_B                   1.0  \n",
       "Price          419432.904313  "
      ]
     },
     "execution_count": 60,
     "metadata": {},
     "output_type": "execute_result"
    }
   ],
   "source": [
    "# Проверяем данные\n",
    "test.describe(include='all').transpose()"
   ]
  },
  {
   "cell_type": "code",
   "execution_count": 61,
   "metadata": {},
   "outputs": [],
   "source": [
    "# запись результата\n",
    "test.loc[:, ['Id', 'Price']].to_csv(RESULT_FILE_PATH, index = False)"
   ]
  }
 ],
 "metadata": {
  "colab": {
   "authorship_tag": "ABX9TyMvlhJZdf+uBQG9dK8IDkjC",
   "mount_file_id": "1G3MaCYvVeqZ605fJXXbvaqS9oM6OuyV8",
   "provenance": [
    {
     "file_id": "1hjS_V2cI5t7kHRxHCoZDK1VaeA0mLQv8",
     "timestamp": 1666947612081
    }
   ]
  },
  "kernelspec": {
   "display_name": "Python 3 (ipykernel)",
   "language": "python",
   "name": "python3"
  },
  "language_info": {
   "codemirror_mode": {
    "name": "ipython",
    "version": 3
   },
   "file_extension": ".py",
   "mimetype": "text/x-python",
   "name": "python",
   "nbconvert_exporter": "python",
   "pygments_lexer": "ipython3",
   "version": "3.9.12"
  }
 },
 "nbformat": 4,
 "nbformat_minor": 1
}
